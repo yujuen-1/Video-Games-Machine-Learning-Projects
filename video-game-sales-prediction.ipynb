{
 "cells": [
  {
   "cell_type": "markdown",
   "id": "40aeaa6e",
   "metadata": {
    "papermill": {
     "duration": 0.007183,
     "end_time": "2023-03-29T13:13:39.206754",
     "exception": false,
     "start_time": "2023-03-29T13:13:39.199571",
     "status": "completed"
    },
    "tags": []
   },
   "source": [
    "The dataset named Video Game Sales with Ratings contains a collection of more than 16000 data which lists video games with sales above 100,000 copy.\n",
    "\n",
    "* **Name** : Name of the game\n",
    "* **Platform** : Console on which the game is running\n",
    "* **Year_of_Release** : Year of the game released\n",
    "* **Genre** : Game's category\n",
    "* **Publisher** : Publisher\n",
    "* **NA_Sales** : Game sales in North America (in millions of units)\n",
    "* **EU_Sales** : Game sales in the European Union (in millions of units)\n",
    "* **JP_Sales** : Game sales in Japan (in millions of units)\n",
    "* **Other_Sales** : Game sales in the rest of the world\n",
    "* **Global_Sales** : Total sales in the world (in millions of units)\n",
    "* **Critic_Score** : Aggregate score compiled by Metacritic staff\n",
    "* **Critic_Count** : The number of critics used in coming up with the Critic_score\n",
    "* **User_Score** : Score by Metacritic's subscribers\n",
    "* **User_Count** : Number of Metacritic's subscribers who gave the user_score\n",
    "* **Developer** : Party responsible for creating the game\n",
    "* **Rating** : The ESRB ratings"
   ]
  },
  {
   "cell_type": "markdown",
   "id": "98ad9d3a",
   "metadata": {
    "papermill": {
     "duration": 0.005599,
     "end_time": "2023-03-29T13:13:39.218519",
     "exception": false,
     "start_time": "2023-03-29T13:13:39.212920",
     "status": "completed"
    },
    "tags": []
   },
   "source": [
    "# Video Game Sales Prediction"
   ]
  },
  {
   "cell_type": "code",
   "execution_count": 1,
   "id": "6246eec6",
   "metadata": {
    "execution": {
     "iopub.execute_input": "2023-03-29T13:13:39.233337Z",
     "iopub.status.busy": "2023-03-29T13:13:39.232397Z",
     "iopub.status.idle": "2023-03-29T13:13:39.396106Z",
     "shell.execute_reply": "2023-03-29T13:13:39.394542Z"
    },
    "papermill": {
     "duration": 0.17593,
     "end_time": "2023-03-29T13:13:39.400383",
     "exception": false,
     "start_time": "2023-03-29T13:13:39.224453",
     "status": "completed"
    },
    "tags": []
   },
   "outputs": [
    {
     "data": {
      "text/html": [
       "<div>\n",
       "<style scoped>\n",
       "    .dataframe tbody tr th:only-of-type {\n",
       "        vertical-align: middle;\n",
       "    }\n",
       "\n",
       "    .dataframe tbody tr th {\n",
       "        vertical-align: top;\n",
       "    }\n",
       "\n",
       "    .dataframe thead th {\n",
       "        text-align: right;\n",
       "    }\n",
       "</style>\n",
       "<table border=\"1\" class=\"dataframe\">\n",
       "  <thead>\n",
       "    <tr style=\"text-align: right;\">\n",
       "      <th></th>\n",
       "      <th>Name</th>\n",
       "      <th>Platform</th>\n",
       "      <th>Year_of_Release</th>\n",
       "      <th>Genre</th>\n",
       "      <th>Publisher</th>\n",
       "      <th>NA_Sales</th>\n",
       "      <th>EU_Sales</th>\n",
       "      <th>JP_Sales</th>\n",
       "      <th>Other_Sales</th>\n",
       "      <th>Global_Sales</th>\n",
       "      <th>Critic_Score</th>\n",
       "      <th>Critic_Count</th>\n",
       "      <th>User_Score</th>\n",
       "      <th>User_Count</th>\n",
       "      <th>Developer</th>\n",
       "      <th>Rating</th>\n",
       "    </tr>\n",
       "  </thead>\n",
       "  <tbody>\n",
       "    <tr>\n",
       "      <th>0</th>\n",
       "      <td>Wii Sports</td>\n",
       "      <td>Wii</td>\n",
       "      <td>2006.0</td>\n",
       "      <td>Sports</td>\n",
       "      <td>Nintendo</td>\n",
       "      <td>41.36</td>\n",
       "      <td>28.96</td>\n",
       "      <td>3.77</td>\n",
       "      <td>8.45</td>\n",
       "      <td>82.53</td>\n",
       "      <td>76.0</td>\n",
       "      <td>51.0</td>\n",
       "      <td>8</td>\n",
       "      <td>322.0</td>\n",
       "      <td>Nintendo</td>\n",
       "      <td>E</td>\n",
       "    </tr>\n",
       "    <tr>\n",
       "      <th>1</th>\n",
       "      <td>Super Mario Bros.</td>\n",
       "      <td>NES</td>\n",
       "      <td>1985.0</td>\n",
       "      <td>Platform</td>\n",
       "      <td>Nintendo</td>\n",
       "      <td>29.08</td>\n",
       "      <td>3.58</td>\n",
       "      <td>6.81</td>\n",
       "      <td>0.77</td>\n",
       "      <td>40.24</td>\n",
       "      <td>NaN</td>\n",
       "      <td>NaN</td>\n",
       "      <td>NaN</td>\n",
       "      <td>NaN</td>\n",
       "      <td>NaN</td>\n",
       "      <td>NaN</td>\n",
       "    </tr>\n",
       "    <tr>\n",
       "      <th>2</th>\n",
       "      <td>Mario Kart Wii</td>\n",
       "      <td>Wii</td>\n",
       "      <td>2008.0</td>\n",
       "      <td>Racing</td>\n",
       "      <td>Nintendo</td>\n",
       "      <td>15.68</td>\n",
       "      <td>12.76</td>\n",
       "      <td>3.79</td>\n",
       "      <td>3.29</td>\n",
       "      <td>35.52</td>\n",
       "      <td>82.0</td>\n",
       "      <td>73.0</td>\n",
       "      <td>8.3</td>\n",
       "      <td>709.0</td>\n",
       "      <td>Nintendo</td>\n",
       "      <td>E</td>\n",
       "    </tr>\n",
       "    <tr>\n",
       "      <th>3</th>\n",
       "      <td>Wii Sports Resort</td>\n",
       "      <td>Wii</td>\n",
       "      <td>2009.0</td>\n",
       "      <td>Sports</td>\n",
       "      <td>Nintendo</td>\n",
       "      <td>15.61</td>\n",
       "      <td>10.93</td>\n",
       "      <td>3.28</td>\n",
       "      <td>2.95</td>\n",
       "      <td>32.77</td>\n",
       "      <td>80.0</td>\n",
       "      <td>73.0</td>\n",
       "      <td>8</td>\n",
       "      <td>192.0</td>\n",
       "      <td>Nintendo</td>\n",
       "      <td>E</td>\n",
       "    </tr>\n",
       "    <tr>\n",
       "      <th>4</th>\n",
       "      <td>Pokemon Red/Pokemon Blue</td>\n",
       "      <td>GB</td>\n",
       "      <td>1996.0</td>\n",
       "      <td>Role-Playing</td>\n",
       "      <td>Nintendo</td>\n",
       "      <td>11.27</td>\n",
       "      <td>8.89</td>\n",
       "      <td>10.22</td>\n",
       "      <td>1.00</td>\n",
       "      <td>31.37</td>\n",
       "      <td>NaN</td>\n",
       "      <td>NaN</td>\n",
       "      <td>NaN</td>\n",
       "      <td>NaN</td>\n",
       "      <td>NaN</td>\n",
       "      <td>NaN</td>\n",
       "    </tr>\n",
       "    <tr>\n",
       "      <th>...</th>\n",
       "      <td>...</td>\n",
       "      <td>...</td>\n",
       "      <td>...</td>\n",
       "      <td>...</td>\n",
       "      <td>...</td>\n",
       "      <td>...</td>\n",
       "      <td>...</td>\n",
       "      <td>...</td>\n",
       "      <td>...</td>\n",
       "      <td>...</td>\n",
       "      <td>...</td>\n",
       "      <td>...</td>\n",
       "      <td>...</td>\n",
       "      <td>...</td>\n",
       "      <td>...</td>\n",
       "      <td>...</td>\n",
       "    </tr>\n",
       "    <tr>\n",
       "      <th>16714</th>\n",
       "      <td>Samurai Warriors: Sanada Maru</td>\n",
       "      <td>PS3</td>\n",
       "      <td>2016.0</td>\n",
       "      <td>Action</td>\n",
       "      <td>Tecmo Koei</td>\n",
       "      <td>0.00</td>\n",
       "      <td>0.00</td>\n",
       "      <td>0.01</td>\n",
       "      <td>0.00</td>\n",
       "      <td>0.01</td>\n",
       "      <td>NaN</td>\n",
       "      <td>NaN</td>\n",
       "      <td>NaN</td>\n",
       "      <td>NaN</td>\n",
       "      <td>NaN</td>\n",
       "      <td>NaN</td>\n",
       "    </tr>\n",
       "    <tr>\n",
       "      <th>16715</th>\n",
       "      <td>LMA Manager 2007</td>\n",
       "      <td>X360</td>\n",
       "      <td>2006.0</td>\n",
       "      <td>Sports</td>\n",
       "      <td>Codemasters</td>\n",
       "      <td>0.00</td>\n",
       "      <td>0.01</td>\n",
       "      <td>0.00</td>\n",
       "      <td>0.00</td>\n",
       "      <td>0.01</td>\n",
       "      <td>NaN</td>\n",
       "      <td>NaN</td>\n",
       "      <td>NaN</td>\n",
       "      <td>NaN</td>\n",
       "      <td>NaN</td>\n",
       "      <td>NaN</td>\n",
       "    </tr>\n",
       "    <tr>\n",
       "      <th>16716</th>\n",
       "      <td>Haitaka no Psychedelica</td>\n",
       "      <td>PSV</td>\n",
       "      <td>2016.0</td>\n",
       "      <td>Adventure</td>\n",
       "      <td>Idea Factory</td>\n",
       "      <td>0.00</td>\n",
       "      <td>0.00</td>\n",
       "      <td>0.01</td>\n",
       "      <td>0.00</td>\n",
       "      <td>0.01</td>\n",
       "      <td>NaN</td>\n",
       "      <td>NaN</td>\n",
       "      <td>NaN</td>\n",
       "      <td>NaN</td>\n",
       "      <td>NaN</td>\n",
       "      <td>NaN</td>\n",
       "    </tr>\n",
       "    <tr>\n",
       "      <th>16717</th>\n",
       "      <td>Spirits &amp; Spells</td>\n",
       "      <td>GBA</td>\n",
       "      <td>2003.0</td>\n",
       "      <td>Platform</td>\n",
       "      <td>Wanadoo</td>\n",
       "      <td>0.01</td>\n",
       "      <td>0.00</td>\n",
       "      <td>0.00</td>\n",
       "      <td>0.00</td>\n",
       "      <td>0.01</td>\n",
       "      <td>NaN</td>\n",
       "      <td>NaN</td>\n",
       "      <td>NaN</td>\n",
       "      <td>NaN</td>\n",
       "      <td>NaN</td>\n",
       "      <td>NaN</td>\n",
       "    </tr>\n",
       "    <tr>\n",
       "      <th>16718</th>\n",
       "      <td>Winning Post 8 2016</td>\n",
       "      <td>PSV</td>\n",
       "      <td>2016.0</td>\n",
       "      <td>Simulation</td>\n",
       "      <td>Tecmo Koei</td>\n",
       "      <td>0.00</td>\n",
       "      <td>0.00</td>\n",
       "      <td>0.01</td>\n",
       "      <td>0.00</td>\n",
       "      <td>0.01</td>\n",
       "      <td>NaN</td>\n",
       "      <td>NaN</td>\n",
       "      <td>NaN</td>\n",
       "      <td>NaN</td>\n",
       "      <td>NaN</td>\n",
       "      <td>NaN</td>\n",
       "    </tr>\n",
       "  </tbody>\n",
       "</table>\n",
       "<p>16719 rows × 16 columns</p>\n",
       "</div>"
      ],
      "text/plain": [
       "                                Name Platform  Year_of_Release         Genre  \\\n",
       "0                         Wii Sports      Wii           2006.0        Sports   \n",
       "1                  Super Mario Bros.      NES           1985.0      Platform   \n",
       "2                     Mario Kart Wii      Wii           2008.0        Racing   \n",
       "3                  Wii Sports Resort      Wii           2009.0        Sports   \n",
       "4           Pokemon Red/Pokemon Blue       GB           1996.0  Role-Playing   \n",
       "...                              ...      ...              ...           ...   \n",
       "16714  Samurai Warriors: Sanada Maru      PS3           2016.0        Action   \n",
       "16715               LMA Manager 2007     X360           2006.0        Sports   \n",
       "16716        Haitaka no Psychedelica      PSV           2016.0     Adventure   \n",
       "16717               Spirits & Spells      GBA           2003.0      Platform   \n",
       "16718            Winning Post 8 2016      PSV           2016.0    Simulation   \n",
       "\n",
       "          Publisher  NA_Sales  EU_Sales  JP_Sales  Other_Sales  Global_Sales  \\\n",
       "0          Nintendo     41.36     28.96      3.77         8.45         82.53   \n",
       "1          Nintendo     29.08      3.58      6.81         0.77         40.24   \n",
       "2          Nintendo     15.68     12.76      3.79         3.29         35.52   \n",
       "3          Nintendo     15.61     10.93      3.28         2.95         32.77   \n",
       "4          Nintendo     11.27      8.89     10.22         1.00         31.37   \n",
       "...             ...       ...       ...       ...          ...           ...   \n",
       "16714    Tecmo Koei      0.00      0.00      0.01         0.00          0.01   \n",
       "16715   Codemasters      0.00      0.01      0.00         0.00          0.01   \n",
       "16716  Idea Factory      0.00      0.00      0.01         0.00          0.01   \n",
       "16717       Wanadoo      0.01      0.00      0.00         0.00          0.01   \n",
       "16718    Tecmo Koei      0.00      0.00      0.01         0.00          0.01   \n",
       "\n",
       "       Critic_Score  Critic_Count User_Score  User_Count Developer Rating  \n",
       "0              76.0          51.0          8       322.0  Nintendo      E  \n",
       "1               NaN           NaN        NaN         NaN       NaN    NaN  \n",
       "2              82.0          73.0        8.3       709.0  Nintendo      E  \n",
       "3              80.0          73.0          8       192.0  Nintendo      E  \n",
       "4               NaN           NaN        NaN         NaN       NaN    NaN  \n",
       "...             ...           ...        ...         ...       ...    ...  \n",
       "16714           NaN           NaN        NaN         NaN       NaN    NaN  \n",
       "16715           NaN           NaN        NaN         NaN       NaN    NaN  \n",
       "16716           NaN           NaN        NaN         NaN       NaN    NaN  \n",
       "16717           NaN           NaN        NaN         NaN       NaN    NaN  \n",
       "16718           NaN           NaN        NaN         NaN       NaN    NaN  \n",
       "\n",
       "[16719 rows x 16 columns]"
      ]
     },
     "execution_count": 1,
     "metadata": {},
     "output_type": "execute_result"
    }
   ],
   "source": [
    "import pandas as pd\n",
    "import matplotlib.pyplot as plt\n",
    "\n",
    "games = pd.read_csv(\"/kaggle/input/video-game-sales-with-ratings/Video_Games_Sales_as_at_22_Dec_2016.csv\")\n",
    "games"
   ]
  },
  {
   "cell_type": "markdown",
   "id": "2507ff8d",
   "metadata": {
    "papermill": {
     "duration": 0.005802,
     "end_time": "2023-03-29T13:13:39.412854",
     "exception": false,
     "start_time": "2023-03-29T13:13:39.407052",
     "status": "completed"
    },
    "tags": []
   },
   "source": [
    "## Data Cleaning"
   ]
  },
  {
   "cell_type": "code",
   "execution_count": 2,
   "id": "bec53674",
   "metadata": {
    "execution": {
     "iopub.execute_input": "2023-03-29T13:13:39.427363Z",
     "iopub.status.busy": "2023-03-29T13:13:39.426854Z",
     "iopub.status.idle": "2023-03-29T13:13:39.474902Z",
     "shell.execute_reply": "2023-03-29T13:13:39.473006Z"
    },
    "papermill": {
     "duration": 0.058889,
     "end_time": "2023-03-29T13:13:39.477924",
     "exception": false,
     "start_time": "2023-03-29T13:13:39.419035",
     "status": "completed"
    },
    "tags": []
   },
   "outputs": [
    {
     "name": "stdout",
     "output_type": "stream",
     "text": [
      "<class 'pandas.core.frame.DataFrame'>\n",
      "RangeIndex: 16719 entries, 0 to 16718\n",
      "Data columns (total 16 columns):\n",
      " #   Column           Non-Null Count  Dtype  \n",
      "---  ------           --------------  -----  \n",
      " 0   Name             16717 non-null  object \n",
      " 1   Platform         16719 non-null  object \n",
      " 2   Year_of_Release  16450 non-null  float64\n",
      " 3   Genre            16717 non-null  object \n",
      " 4   Publisher        16665 non-null  object \n",
      " 5   NA_Sales         16719 non-null  float64\n",
      " 6   EU_Sales         16719 non-null  float64\n",
      " 7   JP_Sales         16719 non-null  float64\n",
      " 8   Other_Sales      16719 non-null  float64\n",
      " 9   Global_Sales     16719 non-null  float64\n",
      " 10  Critic_Score     8137 non-null   float64\n",
      " 11  Critic_Count     8137 non-null   float64\n",
      " 12  User_Score       10015 non-null  object \n",
      " 13  User_Count       7590 non-null   float64\n",
      " 14  Developer        10096 non-null  object \n",
      " 15  Rating           9950 non-null   object \n",
      "dtypes: float64(9), object(7)\n",
      "memory usage: 2.0+ MB\n"
     ]
    },
    {
     "data": {
      "text/plain": [
       "Name                  2\n",
       "Platform              0\n",
       "Year_of_Release     269\n",
       "Genre                 2\n",
       "Publisher            54\n",
       "NA_Sales              0\n",
       "EU_Sales              0\n",
       "JP_Sales              0\n",
       "Other_Sales           0\n",
       "Global_Sales          0\n",
       "Critic_Score       8582\n",
       "Critic_Count       8582\n",
       "User_Score         6704\n",
       "User_Count         9129\n",
       "Developer          6623\n",
       "Rating             6769\n",
       "dtype: int64"
      ]
     },
     "execution_count": 2,
     "metadata": {},
     "output_type": "execute_result"
    }
   ],
   "source": [
    "games.info()\n",
    "games.isnull().sum()"
   ]
  },
  {
   "cell_type": "markdown",
   "id": "0b61ab70",
   "metadata": {
    "papermill": {
     "duration": 0.006203,
     "end_time": "2023-03-29T13:13:39.490839",
     "exception": false,
     "start_time": "2023-03-29T13:13:39.484636",
     "status": "completed"
    },
    "tags": []
   },
   "source": [
    "#### 1. Drop Data"
   ]
  },
  {
   "cell_type": "code",
   "execution_count": 3,
   "id": "6f4ffa91",
   "metadata": {
    "execution": {
     "iopub.execute_input": "2023-03-29T13:13:39.507287Z",
     "iopub.status.busy": "2023-03-29T13:13:39.506732Z",
     "iopub.status.idle": "2023-03-29T13:13:39.516105Z",
     "shell.execute_reply": "2023-03-29T13:13:39.515053Z"
    },
    "papermill": {
     "duration": 0.021035,
     "end_time": "2023-03-29T13:13:39.518744",
     "exception": false,
     "start_time": "2023-03-29T13:13:39.497709",
     "status": "completed"
    },
    "tags": []
   },
   "outputs": [],
   "source": [
    "#Drop unused column\n",
    "\n",
    "games.drop(['Name', 'NA_Sales', 'EU_Sales', 'JP_Sales', 'Other_Sales'], axis = 1, inplace=True)"
   ]
  },
  {
   "cell_type": "code",
   "execution_count": 4,
   "id": "fc7e0fb8",
   "metadata": {
    "execution": {
     "iopub.execute_input": "2023-03-29T13:13:39.535113Z",
     "iopub.status.busy": "2023-03-29T13:13:39.534271Z",
     "iopub.status.idle": "2023-03-29T13:13:39.550889Z",
     "shell.execute_reply": "2023-03-29T13:13:39.549453Z"
    },
    "papermill": {
     "duration": 0.028789,
     "end_time": "2023-03-29T13:13:39.554343",
     "exception": false,
     "start_time": "2023-03-29T13:13:39.525554",
     "status": "completed"
    },
    "tags": []
   },
   "outputs": [
    {
     "data": {
      "text/plain": [
       "Platform              0\n",
       "Year_of_Release     269\n",
       "Genre                 2\n",
       "Publisher            54\n",
       "Global_Sales          0\n",
       "Critic_Score       8582\n",
       "Critic_Count       8582\n",
       "User_Score         6704\n",
       "User_Count         9129\n",
       "Developer          6623\n",
       "Rating             6769\n",
       "dtype: int64"
      ]
     },
     "execution_count": 4,
     "metadata": {},
     "output_type": "execute_result"
    }
   ],
   "source": [
    "games.isna().sum()"
   ]
  },
  {
   "cell_type": "code",
   "execution_count": 5,
   "id": "eaaf5b4a",
   "metadata": {
    "execution": {
     "iopub.execute_input": "2023-03-29T13:13:39.570252Z",
     "iopub.status.busy": "2023-03-29T13:13:39.569721Z",
     "iopub.status.idle": "2023-03-29T13:13:39.586444Z",
     "shell.execute_reply": "2023-03-29T13:13:39.585068Z"
    },
    "papermill": {
     "duration": 0.028211,
     "end_time": "2023-03-29T13:13:39.589425",
     "exception": false,
     "start_time": "2023-03-29T13:13:39.561214",
     "status": "completed"
    },
    "tags": []
   },
   "outputs": [],
   "source": [
    "# Drop NaN\n",
    "\n",
    "games.dropna(inplace=True)"
   ]
  },
  {
   "cell_type": "code",
   "execution_count": 6,
   "id": "5ac1454b",
   "metadata": {
    "execution": {
     "iopub.execute_input": "2023-03-29T13:13:39.605679Z",
     "iopub.status.busy": "2023-03-29T13:13:39.604852Z",
     "iopub.status.idle": "2023-03-29T13:13:39.616846Z",
     "shell.execute_reply": "2023-03-29T13:13:39.615366Z"
    },
    "papermill": {
     "duration": 0.023231,
     "end_time": "2023-03-29T13:13:39.619650",
     "exception": false,
     "start_time": "2023-03-29T13:13:39.596419",
     "status": "completed"
    },
    "tags": []
   },
   "outputs": [],
   "source": [
    "# Convert User_Score to Float\n",
    "games['User_Score'] = pd.to_numeric(games['User_Score'])\n",
    "games['Year_of_Release']=pd.to_numeric(games['Year_of_Release'])"
   ]
  },
  {
   "cell_type": "markdown",
   "id": "d9639856",
   "metadata": {
    "papermill": {
     "duration": 0.008007,
     "end_time": "2023-03-29T13:13:39.634663",
     "exception": false,
     "start_time": "2023-03-29T13:13:39.626656",
     "status": "completed"
    },
    "tags": []
   },
   "source": [
    "#### 2. Grouping Platform"
   ]
  },
  {
   "cell_type": "code",
   "execution_count": 7,
   "id": "39abf8a1",
   "metadata": {
    "execution": {
     "iopub.execute_input": "2023-03-29T13:13:39.650257Z",
     "iopub.status.busy": "2023-03-29T13:13:39.649700Z",
     "iopub.status.idle": "2023-03-29T13:13:39.658131Z",
     "shell.execute_reply": "2023-03-29T13:13:39.656502Z"
    },
    "papermill": {
     "duration": 0.01935,
     "end_time": "2023-03-29T13:13:39.660622",
     "exception": false,
     "start_time": "2023-03-29T13:13:39.641272",
     "status": "completed"
    },
    "tags": []
   },
   "outputs": [
    {
     "name": "stdout",
     "output_type": "stream",
     "text": [
      "type of platform: ['Wii' 'DS' 'X360' 'PS3' 'PS2' '3DS' 'PS4' 'PS' 'XB' 'PC' 'PSP' 'WiiU'\n",
      " 'GC' 'GBA' 'XOne' 'PSV' 'DC']\n"
     ]
    }
   ],
   "source": [
    "print(\"type of platform:\", games['Platform'].unique())"
   ]
  },
  {
   "cell_type": "code",
   "execution_count": 8,
   "id": "3bf7fe08",
   "metadata": {
    "execution": {
     "iopub.execute_input": "2023-03-29T13:13:39.676196Z",
     "iopub.status.busy": "2023-03-29T13:13:39.675622Z",
     "iopub.status.idle": "2023-03-29T13:13:39.716117Z",
     "shell.execute_reply": "2023-03-29T13:13:39.714713Z"
    },
    "papermill": {
     "duration": 0.051814,
     "end_time": "2023-03-29T13:13:39.719194",
     "exception": false,
     "start_time": "2023-03-29T13:13:39.667380",
     "status": "completed"
    },
    "tags": []
   },
   "outputs": [],
   "source": [
    "# Create new column\n",
    "games['Platform_General']= games['Platform']\n",
    "\n",
    "# Group platform in new column\n",
    "games.loc[games['Platform'] == 'Wii', 'Platform_General'] = 'Nintendo'\n",
    "games.loc[games['Platform'] == 'DS', 'Platform_General'] = 'Nintendo'\n",
    "games.loc[games['Platform'] == 'X360', 'Platform_General'] = 'Microsoft_Xbox'\n",
    "games.loc[games['Platform'] == 'PS3', 'Platform_General'] = 'Sony_Playstation' \n",
    "games.loc[games['Platform'] == 'PS2', 'Platform_General'] = 'Sony_Playstation'\n",
    "games.loc[games['Platform'] == '3DS', 'Platform_General'] = 'Nintendo'\n",
    "games.loc[games['Platform'] == 'PS4', 'Platform_General'] = 'Sony_Playstation'\n",
    "games.loc[games['Platform'] == 'PS', 'Platform_General'] = 'Sony_Playstation' \n",
    "games.loc[games['Platform'] == 'XB', 'Platform_General'] = 'Microsoft_Xbox'\n",
    "games.loc[games['Platform'] == 'PC', 'Platform_General'] = 'PC'\n",
    "games.loc[games['Platform'] == 'PSP', 'Platform_General'] = 'Sony_Playstation'\n",
    "games.loc[games['Platform'] == 'WiiU', 'Platform_General'] = 'Nintendo'\n",
    "games.loc[games['Platform'] == 'GC', 'Platform_General'] = 'Nintendo'\n",
    "games.loc[games['Platform'] == 'GBA', 'Platform_General'] = 'Nintendo'\n",
    "games.loc[games['Platform'] == 'XOne', 'Platform_General'] = 'Microsoft_Xbox'\n",
    "games.loc[games['Platform'] == 'PSV', 'Platform_General'] = 'Sony_Playstation'\n",
    "games.loc[games['Platform'] == 'DC', 'Platform_General'] = 'Sega'"
   ]
  },
  {
   "cell_type": "code",
   "execution_count": 9,
   "id": "5c442788",
   "metadata": {
    "execution": {
     "iopub.execute_input": "2023-03-29T13:13:39.735512Z",
     "iopub.status.busy": "2023-03-29T13:13:39.735003Z",
     "iopub.status.idle": "2023-03-29T13:13:39.744675Z",
     "shell.execute_reply": "2023-03-29T13:13:39.743273Z"
    },
    "papermill": {
     "duration": 0.021412,
     "end_time": "2023-03-29T13:13:39.747468",
     "exception": false,
     "start_time": "2023-03-29T13:13:39.726056",
     "status": "completed"
    },
    "tags": []
   },
   "outputs": [
    {
     "data": {
      "text/plain": [
       "array(['Nintendo', 'Microsoft_Xbox', 'Sony_Playstation', 'PC', 'Sega'],\n",
       "      dtype=object)"
      ]
     },
     "execution_count": 9,
     "metadata": {},
     "output_type": "execute_result"
    }
   ],
   "source": [
    "games.head()\n",
    "games[\"Platform_General\"].unique()"
   ]
  },
  {
   "cell_type": "code",
   "execution_count": 10,
   "id": "82322e1a",
   "metadata": {
    "execution": {
     "iopub.execute_input": "2023-03-29T13:13:39.763852Z",
     "iopub.status.busy": "2023-03-29T13:13:39.762973Z",
     "iopub.status.idle": "2023-03-29T13:13:39.782583Z",
     "shell.execute_reply": "2023-03-29T13:13:39.781029Z"
    },
    "papermill": {
     "duration": 0.031117,
     "end_time": "2023-03-29T13:13:39.785619",
     "exception": false,
     "start_time": "2023-03-29T13:13:39.754502",
     "status": "completed"
    },
    "tags": []
   },
   "outputs": [
    {
     "name": "stdout",
     "output_type": "stream",
     "text": [
      "<class 'pandas.core.frame.DataFrame'>\n",
      "Int64Index: 6825 entries, 0 to 16706\n",
      "Data columns (total 12 columns):\n",
      " #   Column            Non-Null Count  Dtype  \n",
      "---  ------            --------------  -----  \n",
      " 0   Platform          6825 non-null   object \n",
      " 1   Year_of_Release   6825 non-null   float64\n",
      " 2   Genre             6825 non-null   object \n",
      " 3   Publisher         6825 non-null   object \n",
      " 4   Global_Sales      6825 non-null   float64\n",
      " 5   Critic_Score      6825 non-null   float64\n",
      " 6   Critic_Count      6825 non-null   float64\n",
      " 7   User_Score        6825 non-null   float64\n",
      " 8   User_Count        6825 non-null   float64\n",
      " 9   Developer         6825 non-null   object \n",
      " 10  Rating            6825 non-null   object \n",
      " 11  Platform_General  6825 non-null   object \n",
      "dtypes: float64(6), object(6)\n",
      "memory usage: 693.2+ KB\n"
     ]
    }
   ],
   "source": [
    "games.info()"
   ]
  },
  {
   "cell_type": "code",
   "execution_count": 11,
   "id": "d003705f",
   "metadata": {
    "execution": {
     "iopub.execute_input": "2023-03-29T13:13:39.802115Z",
     "iopub.status.busy": "2023-03-29T13:13:39.800968Z",
     "iopub.status.idle": "2023-03-29T13:13:39.809514Z",
     "shell.execute_reply": "2023-03-29T13:13:39.808186Z"
    },
    "papermill": {
     "duration": 0.019435,
     "end_time": "2023-03-29T13:13:39.811939",
     "exception": false,
     "start_time": "2023-03-29T13:13:39.792504",
     "status": "completed"
    },
    "tags": []
   },
   "outputs": [],
   "source": [
    "games = games.reset_index(drop=True)"
   ]
  },
  {
   "cell_type": "code",
   "execution_count": 12,
   "id": "2f8635c3",
   "metadata": {
    "execution": {
     "iopub.execute_input": "2023-03-29T13:13:39.828915Z",
     "iopub.status.busy": "2023-03-29T13:13:39.827510Z",
     "iopub.status.idle": "2023-03-29T13:13:39.849743Z",
     "shell.execute_reply": "2023-03-29T13:13:39.848286Z"
    },
    "papermill": {
     "duration": 0.033749,
     "end_time": "2023-03-29T13:13:39.852807",
     "exception": false,
     "start_time": "2023-03-29T13:13:39.819058",
     "status": "completed"
    },
    "tags": []
   },
   "outputs": [
    {
     "data": {
      "text/html": [
       "<div>\n",
       "<style scoped>\n",
       "    .dataframe tbody tr th:only-of-type {\n",
       "        vertical-align: middle;\n",
       "    }\n",
       "\n",
       "    .dataframe tbody tr th {\n",
       "        vertical-align: top;\n",
       "    }\n",
       "\n",
       "    .dataframe thead th {\n",
       "        text-align: right;\n",
       "    }\n",
       "</style>\n",
       "<table border=\"1\" class=\"dataframe\">\n",
       "  <thead>\n",
       "    <tr style=\"text-align: right;\">\n",
       "      <th></th>\n",
       "      <th>Platform</th>\n",
       "      <th>Year_of_Release</th>\n",
       "      <th>Genre</th>\n",
       "      <th>Publisher</th>\n",
       "      <th>Global_Sales</th>\n",
       "      <th>Critic_Score</th>\n",
       "      <th>Critic_Count</th>\n",
       "      <th>User_Score</th>\n",
       "      <th>User_Count</th>\n",
       "      <th>Developer</th>\n",
       "      <th>Rating</th>\n",
       "      <th>Platform_General</th>\n",
       "    </tr>\n",
       "  </thead>\n",
       "  <tbody>\n",
       "    <tr>\n",
       "      <th>0</th>\n",
       "      <td>Wii</td>\n",
       "      <td>2006.0</td>\n",
       "      <td>Sports</td>\n",
       "      <td>Nintendo</td>\n",
       "      <td>82.53</td>\n",
       "      <td>76.0</td>\n",
       "      <td>51.0</td>\n",
       "      <td>8.0</td>\n",
       "      <td>322.0</td>\n",
       "      <td>Nintendo</td>\n",
       "      <td>E</td>\n",
       "      <td>Nintendo</td>\n",
       "    </tr>\n",
       "    <tr>\n",
       "      <th>1</th>\n",
       "      <td>Wii</td>\n",
       "      <td>2008.0</td>\n",
       "      <td>Racing</td>\n",
       "      <td>Nintendo</td>\n",
       "      <td>35.52</td>\n",
       "      <td>82.0</td>\n",
       "      <td>73.0</td>\n",
       "      <td>8.3</td>\n",
       "      <td>709.0</td>\n",
       "      <td>Nintendo</td>\n",
       "      <td>E</td>\n",
       "      <td>Nintendo</td>\n",
       "    </tr>\n",
       "    <tr>\n",
       "      <th>2</th>\n",
       "      <td>Wii</td>\n",
       "      <td>2009.0</td>\n",
       "      <td>Sports</td>\n",
       "      <td>Nintendo</td>\n",
       "      <td>32.77</td>\n",
       "      <td>80.0</td>\n",
       "      <td>73.0</td>\n",
       "      <td>8.0</td>\n",
       "      <td>192.0</td>\n",
       "      <td>Nintendo</td>\n",
       "      <td>E</td>\n",
       "      <td>Nintendo</td>\n",
       "    </tr>\n",
       "    <tr>\n",
       "      <th>3</th>\n",
       "      <td>DS</td>\n",
       "      <td>2006.0</td>\n",
       "      <td>Platform</td>\n",
       "      <td>Nintendo</td>\n",
       "      <td>29.80</td>\n",
       "      <td>89.0</td>\n",
       "      <td>65.0</td>\n",
       "      <td>8.5</td>\n",
       "      <td>431.0</td>\n",
       "      <td>Nintendo</td>\n",
       "      <td>E</td>\n",
       "      <td>Nintendo</td>\n",
       "    </tr>\n",
       "    <tr>\n",
       "      <th>4</th>\n",
       "      <td>Wii</td>\n",
       "      <td>2006.0</td>\n",
       "      <td>Misc</td>\n",
       "      <td>Nintendo</td>\n",
       "      <td>28.92</td>\n",
       "      <td>58.0</td>\n",
       "      <td>41.0</td>\n",
       "      <td>6.6</td>\n",
       "      <td>129.0</td>\n",
       "      <td>Nintendo</td>\n",
       "      <td>E</td>\n",
       "      <td>Nintendo</td>\n",
       "    </tr>\n",
       "  </tbody>\n",
       "</table>\n",
       "</div>"
      ],
      "text/plain": [
       "  Platform  Year_of_Release     Genre Publisher  Global_Sales  Critic_Score  \\\n",
       "0      Wii           2006.0    Sports  Nintendo         82.53          76.0   \n",
       "1      Wii           2008.0    Racing  Nintendo         35.52          82.0   \n",
       "2      Wii           2009.0    Sports  Nintendo         32.77          80.0   \n",
       "3       DS           2006.0  Platform  Nintendo         29.80          89.0   \n",
       "4      Wii           2006.0      Misc  Nintendo         28.92          58.0   \n",
       "\n",
       "   Critic_Count  User_Score  User_Count Developer Rating Platform_General  \n",
       "0          51.0         8.0       322.0  Nintendo      E         Nintendo  \n",
       "1          73.0         8.3       709.0  Nintendo      E         Nintendo  \n",
       "2          73.0         8.0       192.0  Nintendo      E         Nintendo  \n",
       "3          65.0         8.5       431.0  Nintendo      E         Nintendo  \n",
       "4          41.0         6.6       129.0  Nintendo      E         Nintendo  "
      ]
     },
     "execution_count": 12,
     "metadata": {},
     "output_type": "execute_result"
    }
   ],
   "source": [
    "games.head()"
   ]
  },
  {
   "cell_type": "markdown",
   "id": "355135ab",
   "metadata": {
    "papermill": {
     "duration": 0.006748,
     "end_time": "2023-03-29T13:13:39.866928",
     "exception": false,
     "start_time": "2023-03-29T13:13:39.860180",
     "status": "completed"
    },
    "tags": []
   },
   "source": [
    "## Data Visualization\n",
    "The goal here is to gain some intuitions of the magnitude of video game sales and its evolution throughout the period of time covered by the data set.\n"
   ]
  },
  {
   "cell_type": "code",
   "execution_count": 13,
   "id": "11a95d1b",
   "metadata": {
    "execution": {
     "iopub.execute_input": "2023-03-29T13:13:39.883401Z",
     "iopub.status.busy": "2023-03-29T13:13:39.882877Z",
     "iopub.status.idle": "2023-03-29T13:13:40.508691Z",
     "shell.execute_reply": "2023-03-29T13:13:40.507395Z"
    },
    "papermill": {
     "duration": 0.637431,
     "end_time": "2023-03-29T13:13:40.511497",
     "exception": false,
     "start_time": "2023-03-29T13:13:39.874066",
     "status": "completed"
    },
    "tags": []
   },
   "outputs": [
    {
     "name": "stdout",
     "output_type": "stream",
     "text": [
      "        Total Number  Percentage\n",
      "1985.0             1        0.01\n",
      "1988.0             1        0.01\n",
      "1992.0             1        0.01\n",
      "1994.0             1        0.01\n",
      "1996.0             7        0.10\n",
      "1997.0            13        0.19\n",
      "1998.0            25        0.37\n",
      "1999.0            30        0.44\n",
      "2000.0           102        1.49\n",
      "2001.0           256        3.75\n",
      "2002.0           455        6.67\n",
      "2003.0           498        7.30\n",
      "2004.0           476        6.97\n",
      "2005.0           562        8.23\n",
      "2006.0           528        7.74\n",
      "2007.0           590        8.64\n",
      "2008.0           592        8.67\n",
      "2009.0           550        8.06\n",
      "2010.0           429        6.29\n",
      "2011.0           453        6.64\n",
      "2012.0           313        4.59\n",
      "2013.0           266        3.90\n",
      "2014.0           253        3.71\n",
      "2015.0           211        3.09\n",
      "2016.0           212        3.11\n"
     ]
    },
    {
     "data": {
      "image/png": "[encoded data removed]",
      "text/plain": [
       "<Figure size 640x480 with 1 Axes>"
      ]
     },
     "metadata": {},
     "output_type": "display_data"
    }
   ],
   "source": [
    "plt.style.use('dark_background')\n",
    "\n",
    "count = games['Year_of_Release'].value_counts().sort_index()\n",
    "percent = 100*games['Year_of_Release'].value_counts(normalize=True)\n",
    "df = pd.DataFrame({'Total Number':count, 'Percentage':percent.round(2)})\n",
    "print(df)\n",
    "count.plot(kind='bar', title=\"Number of Game Releases per Year\");\n"
   ]
  },
  {
   "cell_type": "code",
   "execution_count": 14,
   "id": "091a3c85",
   "metadata": {
    "execution": {
     "iopub.execute_input": "2023-03-29T13:13:40.529729Z",
     "iopub.status.busy": "2023-03-29T13:13:40.528769Z",
     "iopub.status.idle": "2023-03-29T13:13:40.838475Z",
     "shell.execute_reply": "2023-03-29T13:13:40.836966Z"
    },
    "papermill": {
     "duration": 0.322031,
     "end_time": "2023-03-29T13:13:40.841536",
     "exception": false,
     "start_time": "2023-03-29T13:13:40.519505",
     "status": "completed"
    },
    "tags": []
   },
   "outputs": [
    {
     "name": "stdout",
     "output_type": "stream",
     "text": [
      "              Total Number  Percentage\n",
      "Action                1630       23.88\n",
      "Sports                 943       13.82\n",
      "Shooter                864       12.66\n",
      "Role-Playing           712       10.43\n",
      "Racing                 581        8.51\n",
      "Platform               403        5.90\n",
      "Misc                   384        5.63\n",
      "Fighting               378        5.54\n",
      "Simulation             297        4.35\n",
      "Strategy               267        3.91\n",
      "Adventure              248        3.63\n",
      "Puzzle                 118        1.73\n"
     ]
    },
    {
     "data": {
      "image/png": "[encoded data removed]",
      "text/plain": [
       "<Figure size 640x480 with 1 Axes>"
      ]
     },
     "metadata": {},
     "output_type": "display_data"
    }
   ],
   "source": [
    "plt.style.use('dark_background')\n",
    "count = games['Genre'].value_counts()\n",
    "percent = 100*games['Genre'].value_counts(normalize=True)\n",
    "df = pd.DataFrame({'Total Number':count, 'Percentage':percent.round(2)})\n",
    "print(df)\n",
    "count.plot(kind='bar', title=\"Number of Games per Genre\");"
   ]
  },
  {
   "cell_type": "code",
   "execution_count": 15,
   "id": "2e6d3b7e",
   "metadata": {
    "execution": {
     "iopub.execute_input": "2023-03-29T13:13:40.862469Z",
     "iopub.status.busy": "2023-03-29T13:13:40.861041Z",
     "iopub.status.idle": "2023-03-29T13:13:41.286209Z",
     "shell.execute_reply": "2023-03-29T13:13:41.284720Z"
    },
    "papermill": {
     "duration": 0.439468,
     "end_time": "2023-03-29T13:13:41.289799",
     "exception": false,
     "start_time": "2023-03-29T13:13:40.850331",
     "status": "completed"
    },
    "tags": []
   },
   "outputs": [
    {
     "data": {
      "image/png": "[encoded data removed]",
      "text/plain": [
       "<Figure size 1000x500 with 1 Axes>"
      ]
     },
     "metadata": {},
     "output_type": "display_data"
    }
   ],
   "source": [
    "plt.style.use('dark_background')\n",
    "\n",
    "df = games.groupby(['Genre','Platform_General']).Global_Sales.sum()\n",
    "df.unstack().plot.bar(stacked=True, linewidth=0, figsize=(10,5), colormap= 'Reds')\n",
    "plt.title('Global Sales of Video Games per Platform in Each Genre', size=16)\n",
    "plt.ylabel('Global Sales (Million)')\n",
    "plt.xlabel('Genre')\n",
    "plt.legend(loc=9, prop={'size': 10})\n",
    "plt.autoscale()\n",
    "plt.show()"
   ]
  },
  {
   "cell_type": "code",
   "execution_count": 16,
   "id": "8b3f7c43",
   "metadata": {
    "execution": {
     "iopub.execute_input": "2023-03-29T13:13:41.313119Z",
     "iopub.status.busy": "2023-03-29T13:13:41.312565Z",
     "iopub.status.idle": "2023-03-29T13:13:41.870047Z",
     "shell.execute_reply": "2023-03-29T13:13:41.868922Z"
    },
    "papermill": {
     "duration": 0.573089,
     "end_time": "2023-03-29T13:13:41.872671",
     "exception": false,
     "start_time": "2023-03-29T13:13:41.299582",
     "status": "completed"
    },
    "tags": []
   },
   "outputs": [
    {
     "data": {
      "image/png": "[encoded data removed]",
      "text/plain": [
       "<Figure size 1000x500 with 1 Axes>"
      ]
     },
     "metadata": {},
     "output_type": "display_data"
    }
   ],
   "source": [
    "plt.style.use('dark_background')\n",
    "df = games.groupby(['Year_of_Release','Platform_General']).Global_Sales.sum()\n",
    "df.unstack().plot.bar(stacked=True, linewidth=0, figsize=(10,5), colormap= 'Reds')\n",
    "plt.title('Global Sales of each Platform Year by Year', size=16)\n",
    "plt.ylabel('Global Sales (Million)')\n",
    "plt.xlabel('Year')\n",
    "plt.legend(loc=2, prop={'size': 10})\n",
    "plt.show()"
   ]
  },
  {
   "cell_type": "markdown",
   "id": "9f5b055d",
   "metadata": {
    "papermill": {
     "duration": 0.009826,
     "end_time": "2023-03-29T13:13:41.893237",
     "exception": false,
     "start_time": "2023-03-29T13:13:41.883411",
     "status": "completed"
    },
    "tags": []
   },
   "source": [
    "## Predictive Analysis (on Global Sales)"
   ]
  }
 ],
 "metadata": {
  "kernelspec": {
   "display_name": "Python 3",
   "language": "python",
   "name": "python3"
  },
  "language_info": {
   "codemirror_mode": {
    "name": "ipython",
    "version": 3
   },
   "file_extension": ".py",
   "mimetype": "text/x-python",
   "name": "python",
   "nbconvert_exporter": "python",
   "pygments_lexer": "ipython3",
   "version": "3.7.12"
  },
  "papermill": {
   "default_parameters": {},
   "duration": 16.276136,
   "end_time": "2023-03-29T13:13:42.929575",
   "environment_variables": {},
   "exception": null,
   "input_path": "__notebook__.ipynb",
   "output_path": "__notebook__.ipynb",
   "parameters": {},
   "start_time": "2023-03-29T13:13:26.653439",
   "version": "2.4.0"
  }
 },
 "nbformat": 4,
 "nbformat_minor": 5
}
