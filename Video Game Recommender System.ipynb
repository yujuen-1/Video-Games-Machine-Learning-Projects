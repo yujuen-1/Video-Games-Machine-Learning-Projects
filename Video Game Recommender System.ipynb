{
 "cells": [
  {
   "cell_type": "markdown",
   "id": "a933c784",
   "metadata": {
    "papermill": {
     "duration": 0.010364,
     "end_time": "2023-03-27T13:43:54.579498",
     "exception": false,
     "start_time": "2023-03-27T13:43:54.569134",
     "status": "completed"
    },
    "tags": []
   },
   "source": [
    "The dataset named Video Game Sales with Ratings contains a collection of more than 16000 data which lists video games with sales above 100,000 copy.\n",
    "\n",
    "* **Name** : Name of the game\n",
    "* **Platform** : Console on which the game is running\n",
    "* **Year_of_Release** : Year of the game released\n",
    "* **Genre** : Game's category\n",
    "* **Publisher** : Publisher\n",
    "* **NA_Sales** : Game sales in North America (in millions of units)\n",
    "* **EU_Sales** : Game sales in the European Union (in millions of units)\n",
    "* **JP_Sales** : Game sales in Japan (in millions of units)\n",
    "* **Other_Sales** : Game sales in the rest of the world\n",
    "* **Global_Sales** : Total sales in the world (in millions of units)\n",
    "* **Critic_Score** : Aggregate score compiled by Metacritic staff\n",
    "* **Critic_Count** : The number of critics used in coming up with the Critic_score\n",
    "* **User_Score** : Score by Metacritic's subscribers\n",
    "* **User_Count** : Number of Metacritic's subscribers who gave the user_score\n",
    "* **Developer** : Party responsible for creating the game\n",
    "* **Rating** : The ESRB ratings"
   ]
  },
  {
   "cell_type": "markdown",
   "id": "5f1783c6",
   "metadata": {
    "papermill": {
     "duration": 0.008655,
     "end_time": "2023-03-27T13:43:54.597239",
     "exception": false,
     "start_time": "2023-03-27T13:43:54.588584",
     "status": "completed"
    },
    "tags": []
   },
   "source": [
    "# Video Game Recommender System"
   ]
  },
  {
   "cell_type": "code",
   "execution_count": 1,
   "id": "adf75336",
   "metadata": {
    "execution": {
     "iopub.execute_input": "2023-03-27T13:43:54.617999Z",
     "iopub.status.busy": "2023-03-27T13:43:54.616979Z",
     "iopub.status.idle": "2023-03-27T13:43:54.754791Z",
     "shell.execute_reply": "2023-03-27T13:43:54.753433Z"
    },
    "papermill": {
     "duration": 0.151583,
     "end_time": "2023-03-27T13:43:54.757727",
     "exception": false,
     "start_time": "2023-03-27T13:43:54.606144",
     "status": "completed"
    },
    "tags": []
   },
   "outputs": [
    {
     "data": {
      "text/html": [
       "<div>\n",
       "<style scoped>\n",
       "    .dataframe tbody tr th:only-of-type {\n",
       "        vertical-align: middle;\n",
       "    }\n",
       "\n",
       "    .dataframe tbody tr th {\n",
       "        vertical-align: top;\n",
       "    }\n",
       "\n",
       "    .dataframe thead th {\n",
       "        text-align: right;\n",
       "    }\n",
       "</style>\n",
       "<table border=\"1\" class=\"dataframe\">\n",
       "  <thead>\n",
       "    <tr style=\"text-align: right;\">\n",
       "      <th></th>\n",
       "      <th>Name</th>\n",
       "      <th>Platform</th>\n",
       "      <th>Year_of_Release</th>\n",
       "      <th>Genre</th>\n",
       "      <th>Publisher</th>\n",
       "      <th>NA_Sales</th>\n",
       "      <th>EU_Sales</th>\n",
       "      <th>JP_Sales</th>\n",
       "      <th>Other_Sales</th>\n",
       "      <th>Global_Sales</th>\n",
       "      <th>Critic_Score</th>\n",
       "      <th>Critic_Count</th>\n",
       "      <th>User_Score</th>\n",
       "      <th>User_Count</th>\n",
       "      <th>Developer</th>\n",
       "      <th>Rating</th>\n",
       "    </tr>\n",
       "  </thead>\n",
       "  <tbody>\n",
       "    <tr>\n",
       "      <th>0</th>\n",
       "      <td>Wii Sports</td>\n",
       "      <td>Wii</td>\n",
       "      <td>2006.0</td>\n",
       "      <td>Sports</td>\n",
       "      <td>Nintendo</td>\n",
       "      <td>41.36</td>\n",
       "      <td>28.96</td>\n",
       "      <td>3.77</td>\n",
       "      <td>8.45</td>\n",
       "      <td>82.53</td>\n",
       "      <td>76.0</td>\n",
       "      <td>51.0</td>\n",
       "      <td>8</td>\n",
       "      <td>322.0</td>\n",
       "      <td>Nintendo</td>\n",
       "      <td>E</td>\n",
       "    </tr>\n",
       "    <tr>\n",
       "      <th>1</th>\n",
       "      <td>Super Mario Bros.</td>\n",
       "      <td>NES</td>\n",
       "      <td>1985.0</td>\n",
       "      <td>Platform</td>\n",
       "      <td>Nintendo</td>\n",
       "      <td>29.08</td>\n",
       "      <td>3.58</td>\n",
       "      <td>6.81</td>\n",
       "      <td>0.77</td>\n",
       "      <td>40.24</td>\n",
       "      <td>NaN</td>\n",
       "      <td>NaN</td>\n",
       "      <td>NaN</td>\n",
       "      <td>NaN</td>\n",
       "      <td>NaN</td>\n",
       "      <td>NaN</td>\n",
       "    </tr>\n",
       "    <tr>\n",
       "      <th>2</th>\n",
       "      <td>Mario Kart Wii</td>\n",
       "      <td>Wii</td>\n",
       "      <td>2008.0</td>\n",
       "      <td>Racing</td>\n",
       "      <td>Nintendo</td>\n",
       "      <td>15.68</td>\n",
       "      <td>12.76</td>\n",
       "      <td>3.79</td>\n",
       "      <td>3.29</td>\n",
       "      <td>35.52</td>\n",
       "      <td>82.0</td>\n",
       "      <td>73.0</td>\n",
       "      <td>8.3</td>\n",
       "      <td>709.0</td>\n",
       "      <td>Nintendo</td>\n",
       "      <td>E</td>\n",
       "    </tr>\n",
       "    <tr>\n",
       "      <th>3</th>\n",
       "      <td>Wii Sports Resort</td>\n",
       "      <td>Wii</td>\n",
       "      <td>2009.0</td>\n",
       "      <td>Sports</td>\n",
       "      <td>Nintendo</td>\n",
       "      <td>15.61</td>\n",
       "      <td>10.93</td>\n",
       "      <td>3.28</td>\n",
       "      <td>2.95</td>\n",
       "      <td>32.77</td>\n",
       "      <td>80.0</td>\n",
       "      <td>73.0</td>\n",
       "      <td>8</td>\n",
       "      <td>192.0</td>\n",
       "      <td>Nintendo</td>\n",
       "      <td>E</td>\n",
       "    </tr>\n",
       "    <tr>\n",
       "      <th>4</th>\n",
       "      <td>Pokemon Red/Pokemon Blue</td>\n",
       "      <td>GB</td>\n",
       "      <td>1996.0</td>\n",
       "      <td>Role-Playing</td>\n",
       "      <td>Nintendo</td>\n",
       "      <td>11.27</td>\n",
       "      <td>8.89</td>\n",
       "      <td>10.22</td>\n",
       "      <td>1.00</td>\n",
       "      <td>31.37</td>\n",
       "      <td>NaN</td>\n",
       "      <td>NaN</td>\n",
       "      <td>NaN</td>\n",
       "      <td>NaN</td>\n",
       "      <td>NaN</td>\n",
       "      <td>NaN</td>\n",
       "    </tr>\n",
       "    <tr>\n",
       "      <th>...</th>\n",
       "      <td>...</td>\n",
       "      <td>...</td>\n",
       "      <td>...</td>\n",
       "      <td>...</td>\n",
       "      <td>...</td>\n",
       "      <td>...</td>\n",
       "      <td>...</td>\n",
       "      <td>...</td>\n",
       "      <td>...</td>\n",
       "      <td>...</td>\n",
       "      <td>...</td>\n",
       "      <td>...</td>\n",
       "      <td>...</td>\n",
       "      <td>...</td>\n",
       "      <td>...</td>\n",
       "      <td>...</td>\n",
       "    </tr>\n",
       "    <tr>\n",
       "      <th>16714</th>\n",
       "      <td>Samurai Warriors: Sanada Maru</td>\n",
       "      <td>PS3</td>\n",
       "      <td>2016.0</td>\n",
       "      <td>Action</td>\n",
       "      <td>Tecmo Koei</td>\n",
       "      <td>0.00</td>\n",
       "      <td>0.00</td>\n",
       "      <td>0.01</td>\n",
       "      <td>0.00</td>\n",
       "      <td>0.01</td>\n",
       "      <td>NaN</td>\n",
       "      <td>NaN</td>\n",
       "      <td>NaN</td>\n",
       "      <td>NaN</td>\n",
       "      <td>NaN</td>\n",
       "      <td>NaN</td>\n",
       "    </tr>\n",
       "    <tr>\n",
       "      <th>16715</th>\n",
       "      <td>LMA Manager 2007</td>\n",
       "      <td>X360</td>\n",
       "      <td>2006.0</td>\n",
       "      <td>Sports</td>\n",
       "      <td>Codemasters</td>\n",
       "      <td>0.00</td>\n",
       "      <td>0.01</td>\n",
       "      <td>0.00</td>\n",
       "      <td>0.00</td>\n",
       "      <td>0.01</td>\n",
       "      <td>NaN</td>\n",
       "      <td>NaN</td>\n",
       "      <td>NaN</td>\n",
       "      <td>NaN</td>\n",
       "      <td>NaN</td>\n",
       "      <td>NaN</td>\n",
       "    </tr>\n",
       "    <tr>\n",
       "      <th>16716</th>\n",
       "      <td>Haitaka no Psychedelica</td>\n",
       "      <td>PSV</td>\n",
       "      <td>2016.0</td>\n",
       "      <td>Adventure</td>\n",
       "      <td>Idea Factory</td>\n",
       "      <td>0.00</td>\n",
       "      <td>0.00</td>\n",
       "      <td>0.01</td>\n",
       "      <td>0.00</td>\n",
       "      <td>0.01</td>\n",
       "      <td>NaN</td>\n",
       "      <td>NaN</td>\n",
       "      <td>NaN</td>\n",
       "      <td>NaN</td>\n",
       "      <td>NaN</td>\n",
       "      <td>NaN</td>\n",
       "    </tr>\n",
       "    <tr>\n",
       "      <th>16717</th>\n",
       "      <td>Spirits &amp; Spells</td>\n",
       "      <td>GBA</td>\n",
       "      <td>2003.0</td>\n",
       "      <td>Platform</td>\n",
       "      <td>Wanadoo</td>\n",
       "      <td>0.01</td>\n",
       "      <td>0.00</td>\n",
       "      <td>0.00</td>\n",
       "      <td>0.00</td>\n",
       "      <td>0.01</td>\n",
       "      <td>NaN</td>\n",
       "      <td>NaN</td>\n",
       "      <td>NaN</td>\n",
       "      <td>NaN</td>\n",
       "      <td>NaN</td>\n",
       "      <td>NaN</td>\n",
       "    </tr>\n",
       "    <tr>\n",
       "      <th>16718</th>\n",
       "      <td>Winning Post 8 2016</td>\n",
       "      <td>PSV</td>\n",
       "      <td>2016.0</td>\n",
       "      <td>Simulation</td>\n",
       "      <td>Tecmo Koei</td>\n",
       "      <td>0.00</td>\n",
       "      <td>0.00</td>\n",
       "      <td>0.01</td>\n",
       "      <td>0.00</td>\n",
       "      <td>0.01</td>\n",
       "      <td>NaN</td>\n",
       "      <td>NaN</td>\n",
       "      <td>NaN</td>\n",
       "      <td>NaN</td>\n",
       "      <td>NaN</td>\n",
       "      <td>NaN</td>\n",
       "    </tr>\n",
       "  </tbody>\n",
       "</table>\n",
       "<p>16719 rows × 16 columns</p>\n",
       "</div>"
      ],
      "text/plain": [
       "                                Name Platform  Year_of_Release         Genre  \\\n",
       "0                         Wii Sports      Wii           2006.0        Sports   \n",
       "1                  Super Mario Bros.      NES           1985.0      Platform   \n",
       "2                     Mario Kart Wii      Wii           2008.0        Racing   \n",
       "3                  Wii Sports Resort      Wii           2009.0        Sports   \n",
       "4           Pokemon Red/Pokemon Blue       GB           1996.0  Role-Playing   \n",
       "...                              ...      ...              ...           ...   \n",
       "16714  Samurai Warriors: Sanada Maru      PS3           2016.0        Action   \n",
       "16715               LMA Manager 2007     X360           2006.0        Sports   \n",
       "16716        Haitaka no Psychedelica      PSV           2016.0     Adventure   \n",
       "16717               Spirits & Spells      GBA           2003.0      Platform   \n",
       "16718            Winning Post 8 2016      PSV           2016.0    Simulation   \n",
       "\n",
       "          Publisher  NA_Sales  EU_Sales  JP_Sales  Other_Sales  Global_Sales  \\\n",
       "0          Nintendo     41.36     28.96      3.77         8.45         82.53   \n",
       "1          Nintendo     29.08      3.58      6.81         0.77         40.24   \n",
       "2          Nintendo     15.68     12.76      3.79         3.29         35.52   \n",
       "3          Nintendo     15.61     10.93      3.28         2.95         32.77   \n",
       "4          Nintendo     11.27      8.89     10.22         1.00         31.37   \n",
       "...             ...       ...       ...       ...          ...           ...   \n",
       "16714    Tecmo Koei      0.00      0.00      0.01         0.00          0.01   \n",
       "16715   Codemasters      0.00      0.01      0.00         0.00          0.01   \n",
       "16716  Idea Factory      0.00      0.00      0.01         0.00          0.01   \n",
       "16717       Wanadoo      0.01      0.00      0.00         0.00          0.01   \n",
       "16718    Tecmo Koei      0.00      0.00      0.01         0.00          0.01   \n",
       "\n",
       "       Critic_Score  Critic_Count User_Score  User_Count Developer Rating  \n",
       "0              76.0          51.0          8       322.0  Nintendo      E  \n",
       "1               NaN           NaN        NaN         NaN       NaN    NaN  \n",
       "2              82.0          73.0        8.3       709.0  Nintendo      E  \n",
       "3              80.0          73.0          8       192.0  Nintendo      E  \n",
       "4               NaN           NaN        NaN         NaN       NaN    NaN  \n",
       "...             ...           ...        ...         ...       ...    ...  \n",
       "16714           NaN           NaN        NaN         NaN       NaN    NaN  \n",
       "16715           NaN           NaN        NaN         NaN       NaN    NaN  \n",
       "16716           NaN           NaN        NaN         NaN       NaN    NaN  \n",
       "16717           NaN           NaN        NaN         NaN       NaN    NaN  \n",
       "16718           NaN           NaN        NaN         NaN       NaN    NaN  \n",
       "\n",
       "[16719 rows x 16 columns]"
      ]
     },
     "execution_count": 1,
     "metadata": {},
     "output_type": "execute_result"
    }
   ],
   "source": [
    "import pandas as pd\n",
    "import matplotlib.pyplot as plt\n",
    "\n",
    "games = pd.read_csv(\"/kaggle/input/video-game-sales-with-ratings/Video_Games_Sales_as_at_22_Dec_2016.csv\")\n",
    "games"
   ]
  },
  {
   "cell_type": "markdown",
   "id": "e7645df5",
   "metadata": {
    "papermill": {
     "duration": 0.00929,
     "end_time": "2023-03-27T13:43:54.776949",
     "exception": false,
     "start_time": "2023-03-27T13:43:54.767659",
     "status": "completed"
    },
    "tags": []
   },
   "source": [
    "## Data Cleaning"
   ]
  },
  {
   "cell_type": "code",
   "execution_count": 2,
   "id": "0d4dbe4d",
   "metadata": {
    "execution": {
     "iopub.execute_input": "2023-03-27T13:43:54.799451Z",
     "iopub.status.busy": "2023-03-27T13:43:54.798805Z",
     "iopub.status.idle": "2023-03-27T13:43:54.837622Z",
     "shell.execute_reply": "2023-03-27T13:43:54.836282Z"
    },
    "papermill": {
     "duration": 0.054046,
     "end_time": "2023-03-27T13:43:54.840340",
     "exception": false,
     "start_time": "2023-03-27T13:43:54.786294",
     "status": "completed"
    },
    "tags": []
   },
   "outputs": [
    {
     "name": "stdout",
     "output_type": "stream",
     "text": [
      "<class 'pandas.core.frame.DataFrame'>\n",
      "RangeIndex: 16719 entries, 0 to 16718\n",
      "Data columns (total 16 columns):\n",
      " #   Column           Non-Null Count  Dtype  \n",
      "---  ------           --------------  -----  \n",
      " 0   Name             16717 non-null  object \n",
      " 1   Platform         16719 non-null  object \n",
      " 2   Year_of_Release  16450 non-null  float64\n",
      " 3   Genre            16717 non-null  object \n",
      " 4   Publisher        16665 non-null  object \n",
      " 5   NA_Sales         16719 non-null  float64\n",
      " 6   EU_Sales         16719 non-null  float64\n",
      " 7   JP_Sales         16719 non-null  float64\n",
      " 8   Other_Sales      16719 non-null  float64\n",
      " 9   Global_Sales     16719 non-null  float64\n",
      " 10  Critic_Score     8137 non-null   float64\n",
      " 11  Critic_Count     8137 non-null   float64\n",
      " 12  User_Score       10015 non-null  object \n",
      " 13  User_Count       7590 non-null   float64\n",
      " 14  Developer        10096 non-null  object \n",
      " 15  Rating           9950 non-null   object \n",
      "dtypes: float64(9), object(7)\n",
      "memory usage: 2.0+ MB\n"
     ]
    },
    {
     "data": {
      "text/plain": [
       "Name                  2\n",
       "Platform              0\n",
       "Year_of_Release     269\n",
       "Genre                 2\n",
       "Publisher            54\n",
       "NA_Sales              0\n",
       "EU_Sales              0\n",
       "JP_Sales              0\n",
       "Other_Sales           0\n",
       "Global_Sales          0\n",
       "Critic_Score       8582\n",
       "Critic_Count       8582\n",
       "User_Score         6704\n",
       "User_Count         9129\n",
       "Developer          6623\n",
       "Rating             6769\n",
       "dtype: int64"
      ]
     },
     "execution_count": 2,
     "metadata": {},
     "output_type": "execute_result"
    }
   ],
   "source": [
    "games.info()\n",
    "games.isnull().sum()"
   ]
  },
  {
   "cell_type": "markdown",
   "id": "8afab93a",
   "metadata": {
    "papermill": {
     "duration": 0.00955,
     "end_time": "2023-03-27T13:43:54.859433",
     "exception": false,
     "start_time": "2023-03-27T13:43:54.849883",
     "status": "completed"
    },
    "tags": []
   },
   "source": [
    "#### 1. Drop Data"
   ]
  },
  {
   "cell_type": "code",
   "execution_count": 3,
   "id": "a1f4bb59",
   "metadata": {
    "execution": {
     "iopub.execute_input": "2023-03-27T13:43:54.880464Z",
     "iopub.status.busy": "2023-03-27T13:43:54.880075Z",
     "iopub.status.idle": "2023-03-27T13:43:54.887988Z",
     "shell.execute_reply": "2023-03-27T13:43:54.887117Z"
    },
    "papermill": {
     "duration": 0.021392,
     "end_time": "2023-03-27T13:43:54.890329",
     "exception": false,
     "start_time": "2023-03-27T13:43:54.868937",
     "status": "completed"
    },
    "tags": []
   },
   "outputs": [],
   "source": [
    "#Drop unused column\n",
    "\n",
    "games.drop(['Publisher',\n",
    "            'NA_Sales',\n",
    "            'EU_Sales',\n",
    "            'JP_Sales',\n",
    "            'Other_Sales',\n",
    "            'Critic_Count',\n",
    "            'User_Score',\n",
    "            'User_Count',\n",
    "            'Developer',\n",
    "            'Rating'], axis=1, inplace=True)"
   ]
  },
  {
   "cell_type": "code",
   "execution_count": 4,
   "id": "d0ff2a13",
   "metadata": {
    "execution": {
     "iopub.execute_input": "2023-03-27T13:43:54.911593Z",
     "iopub.status.busy": "2023-03-27T13:43:54.911228Z",
     "iopub.status.idle": "2023-03-27T13:43:54.922322Z",
     "shell.execute_reply": "2023-03-27T13:43:54.921268Z"
    },
    "papermill": {
     "duration": 0.024449,
     "end_time": "2023-03-27T13:43:54.924601",
     "exception": false,
     "start_time": "2023-03-27T13:43:54.900152",
     "status": "completed"
    },
    "tags": []
   },
   "outputs": [
    {
     "data": {
      "text/plain": [
       "Name                  2\n",
       "Platform              0\n",
       "Year_of_Release     269\n",
       "Genre                 2\n",
       "Global_Sales          0\n",
       "Critic_Score       8582\n",
       "dtype: int64"
      ]
     },
     "execution_count": 4,
     "metadata": {},
     "output_type": "execute_result"
    }
   ],
   "source": [
    "games.isna().sum()"
   ]
  },
  {
   "cell_type": "code",
   "execution_count": 5,
   "id": "7fa9020b",
   "metadata": {
    "execution": {
     "iopub.execute_input": "2023-03-27T13:43:54.946032Z",
     "iopub.status.busy": "2023-03-27T13:43:54.945639Z",
     "iopub.status.idle": "2023-03-27T13:43:54.956195Z",
     "shell.execute_reply": "2023-03-27T13:43:54.955339Z"
    },
    "papermill": {
     "duration": 0.024195,
     "end_time": "2023-03-27T13:43:54.958703",
     "exception": false,
     "start_time": "2023-03-27T13:43:54.934508",
     "status": "completed"
    },
    "tags": []
   },
   "outputs": [],
   "source": [
    "#Option 1- dropna\n",
    "\n",
    "games.dropna(inplace=True)"
   ]
  },
  {
   "cell_type": "markdown",
   "id": "1f54dd23",
   "metadata": {
    "papermill": {
     "duration": 0.009716,
     "end_time": "2023-03-27T13:43:54.978235",
     "exception": false,
     "start_time": "2023-03-27T13:43:54.968519",
     "status": "completed"
    },
    "tags": []
   },
   "source": [
    "#### 2. Grouping Platform"
   ]
  },
  {
   "cell_type": "code",
   "execution_count": 6,
   "id": "f5608c59",
   "metadata": {
    "execution": {
     "iopub.execute_input": "2023-03-27T13:43:54.999987Z",
     "iopub.status.busy": "2023-03-27T13:43:54.999615Z",
     "iopub.status.idle": "2023-03-27T13:43:55.006152Z",
     "shell.execute_reply": "2023-03-27T13:43:55.004918Z"
    },
    "papermill": {
     "duration": 0.019966,
     "end_time": "2023-03-27T13:43:55.008286",
     "exception": false,
     "start_time": "2023-03-27T13:43:54.988320",
     "status": "completed"
    },
    "tags": []
   },
   "outputs": [
    {
     "name": "stdout",
     "output_type": "stream",
     "text": [
      "type of platform: ['Wii' 'DS' 'X360' 'PS3' 'PS2' '3DS' 'PS4' 'PS' 'XB' 'PC' 'PSP' 'WiiU'\n",
      " 'GC' 'GBA' 'XOne' 'PSV' 'DC']\n"
     ]
    }
   ],
   "source": [
    "print(\"type of platform:\", games['Platform'].unique())"
   ]
  },
  {
   "cell_type": "code",
   "execution_count": 7,
   "id": "cb1e8741",
   "metadata": {
    "execution": {
     "iopub.execute_input": "2023-03-27T13:43:55.029677Z",
     "iopub.status.busy": "2023-03-27T13:43:55.029289Z",
     "iopub.status.idle": "2023-03-27T13:43:55.066847Z",
     "shell.execute_reply": "2023-03-27T13:43:55.065638Z"
    },
    "papermill": {
     "duration": 0.051134,
     "end_time": "2023-03-27T13:43:55.069323",
     "exception": false,
     "start_time": "2023-03-27T13:43:55.018189",
     "status": "completed"
    },
    "tags": []
   },
   "outputs": [],
   "source": [
    "# Create new column\n",
    "games['Platform_General']= games['Platform']\n",
    "\n",
    "# Group platform in new column\n",
    "games.loc[games['Platform'] == 'Wii', 'Platform_General'] = 'Nintendo'\n",
    "games.loc[games['Platform'] == 'DS', 'Platform_General'] = 'Nintendo'\n",
    "games.loc[games['Platform'] == 'X360', 'Platform_General'] = 'Microsoft_Xbox'\n",
    "games.loc[games['Platform'] == 'PS3', 'Platform_General'] = 'Sony_Playstation' \n",
    "games.loc[games['Platform'] == 'PS2', 'Platform_General'] = 'Sony_Playstation'\n",
    "games.loc[games['Platform'] == '3DS', 'Platform_General'] = 'Nintendo'\n",
    "games.loc[games['Platform'] == 'PS4', 'Platform_General'] = 'Sony_Playstation'\n",
    "games.loc[games['Platform'] == 'PS', 'Platform_General'] = 'Sony_Playstation' \n",
    "games.loc[games['Platform'] == 'XB', 'Platform_General'] = 'Microsoft_Xbox'\n",
    "games.loc[games['Platform'] == 'PC', 'Platform_General'] = 'PC'\n",
    "games.loc[games['Platform'] == 'PSP', 'Platform_General'] = 'Sony_Playstation'\n",
    "games.loc[games['Platform'] == 'WiiU', 'Platform_General'] = 'Nintendo'\n",
    "games.loc[games['Platform'] == 'GC', 'Platform_General'] = 'Nintendo'\n",
    "games.loc[games['Platform'] == 'GBA', 'Platform_General'] = 'Nintendo'\n",
    "games.loc[games['Platform'] == 'XOne', 'Platform_General'] = 'Microsoft_Xbox'\n",
    "games.loc[games['Platform'] == 'PSV', 'Platform_General'] = 'Sony_Playstation'\n",
    "games.loc[games['Platform'] == 'DC', 'Platform_General'] = 'Sega'"
   ]
  },
  {
   "cell_type": "code",
   "execution_count": 8,
   "id": "51cc1f51",
   "metadata": {
    "execution": {
     "iopub.execute_input": "2023-03-27T13:43:55.091164Z",
     "iopub.status.busy": "2023-03-27T13:43:55.090769Z",
     "iopub.status.idle": "2023-03-27T13:43:55.098868Z",
     "shell.execute_reply": "2023-03-27T13:43:55.097772Z"
    },
    "papermill": {
     "duration": 0.021852,
     "end_time": "2023-03-27T13:43:55.101312",
     "exception": false,
     "start_time": "2023-03-27T13:43:55.079460",
     "status": "completed"
    },
    "tags": []
   },
   "outputs": [
    {
     "data": {
      "text/plain": [
       "array(['Nintendo', 'Microsoft_Xbox', 'Sony_Playstation', 'PC', 'Sega'],\n",
       "      dtype=object)"
      ]
     },
     "execution_count": 8,
     "metadata": {},
     "output_type": "execute_result"
    }
   ],
   "source": [
    "games.head()\n",
    "games[\"Platform_General\"].unique()"
   ]
  },
  {
   "cell_type": "markdown",
   "id": "05604378",
   "metadata": {
    "papermill": {
     "duration": 0.010085,
     "end_time": "2023-03-27T13:43:55.121419",
     "exception": false,
     "start_time": "2023-03-27T13:43:55.111334",
     "status": "completed"
    },
    "tags": []
   },
   "source": [
    "#### 3. Change data type"
   ]
  },
  {
   "cell_type": "code",
   "execution_count": 9,
   "id": "3eec7faa",
   "metadata": {
    "execution": {
     "iopub.execute_input": "2023-03-27T13:43:55.142930Z",
     "iopub.status.busy": "2023-03-27T13:43:55.142531Z",
     "iopub.status.idle": "2023-03-27T13:43:55.158059Z",
     "shell.execute_reply": "2023-03-27T13:43:55.156174Z"
    },
    "papermill": {
     "duration": 0.029986,
     "end_time": "2023-03-27T13:43:55.161281",
     "exception": false,
     "start_time": "2023-03-27T13:43:55.131295",
     "status": "completed"
    },
    "tags": []
   },
   "outputs": [
    {
     "name": "stdout",
     "output_type": "stream",
     "text": [
      "<class 'pandas.core.frame.DataFrame'>\n",
      "Int64Index: 7983 entries, 0 to 16709\n",
      "Data columns (total 7 columns):\n",
      " #   Column            Non-Null Count  Dtype  \n",
      "---  ------            --------------  -----  \n",
      " 0   Name              7983 non-null   object \n",
      " 1   Platform          7983 non-null   object \n",
      " 2   Year_of_Release   7983 non-null   float64\n",
      " 3   Genre             7983 non-null   object \n",
      " 4   Global_Sales      7983 non-null   float64\n",
      " 5   Critic_Score      7983 non-null   float64\n",
      " 6   Platform_General  7983 non-null   object \n",
      "dtypes: float64(3), object(4)\n",
      "memory usage: 498.9+ KB\n"
     ]
    }
   ],
   "source": [
    "games.info()"
   ]
  },
  {
   "cell_type": "code",
   "execution_count": 10,
   "id": "6f178fb6",
   "metadata": {
    "execution": {
     "iopub.execute_input": "2023-03-27T13:43:55.183967Z",
     "iopub.status.busy": "2023-03-27T13:43:55.183280Z",
     "iopub.status.idle": "2023-03-27T13:43:55.191073Z",
     "shell.execute_reply": "2023-03-27T13:43:55.190247Z"
    },
    "papermill": {
     "duration": 0.021557,
     "end_time": "2023-03-27T13:43:55.193419",
     "exception": false,
     "start_time": "2023-03-27T13:43:55.171862",
     "status": "completed"
    },
    "tags": []
   },
   "outputs": [],
   "source": [
    "# changing the data type of a column\n",
    "games['Year_of_Release'] = games['Year_of_Release'].astype(int).astype(object)\n",
    "games['Critic_Score'] = games['Critic_Score'].astype(int)"
   ]
  },
  {
   "cell_type": "code",
   "execution_count": 11,
   "id": "81e10c2b",
   "metadata": {
    "execution": {
     "iopub.execute_input": "2023-03-27T13:43:55.215687Z",
     "iopub.status.busy": "2023-03-27T13:43:55.214801Z",
     "iopub.status.idle": "2023-03-27T13:43:55.233215Z",
     "shell.execute_reply": "2023-03-27T13:43:55.232244Z"
    },
    "papermill": {
     "duration": 0.032374,
     "end_time": "2023-03-27T13:43:55.235900",
     "exception": false,
     "start_time": "2023-03-27T13:43:55.203526",
     "status": "completed"
    },
    "tags": []
   },
   "outputs": [],
   "source": [
    "# rename to a specific value\n",
    "duplicated_index = games[games.duplicated('Name', keep=False)].index.tolist()\n",
    "games.loc[duplicated_index, \"Platform\"] = \"Multi_Platform\"\n",
    "games.loc[duplicated_index, \"Platform_General\"] = \"Multi_Platform\"\n",
    "games.loc[games['Genre'] == 'Role-Playing', 'Genre'] = 'Role_Playing'"
   ]
  },
  {
   "cell_type": "code",
   "execution_count": 12,
   "id": "1d71219a",
   "metadata": {
    "execution": {
     "iopub.execute_input": "2023-03-27T13:43:55.258500Z",
     "iopub.status.busy": "2023-03-27T13:43:55.257503Z",
     "iopub.status.idle": "2023-03-27T13:43:55.272972Z",
     "shell.execute_reply": "2023-03-27T13:43:55.271913Z"
    },
    "papermill": {
     "duration": 0.029661,
     "end_time": "2023-03-27T13:43:55.275730",
     "exception": false,
     "start_time": "2023-03-27T13:43:55.246069",
     "status": "completed"
    },
    "tags": []
   },
   "outputs": [],
   "source": [
    "# merge same game title\n",
    "games['Global_Sales'] = games.groupby(['Name'])['Global_Sales'].transform('sum')\n",
    "games = games.drop_duplicates(subset=['Name'])"
   ]
  },
  {
   "cell_type": "code",
   "execution_count": 13,
   "id": "c3a9b2b8",
   "metadata": {
    "execution": {
     "iopub.execute_input": "2023-03-27T13:43:55.298503Z",
     "iopub.status.busy": "2023-03-27T13:43:55.298103Z",
     "iopub.status.idle": "2023-03-27T13:43:55.305093Z",
     "shell.execute_reply": "2023-03-27T13:43:55.303967Z"
    },
    "papermill": {
     "duration": 0.021219,
     "end_time": "2023-03-27T13:43:55.307533",
     "exception": false,
     "start_time": "2023-03-27T13:43:55.286314",
     "status": "completed"
    },
    "tags": []
   },
   "outputs": [],
   "source": [
    "# changing the column order\n",
    "games = games.reindex(columns=['Name','Platform','Platform_General','Year_of_Release','Genre','Global_Sales','Critic_Score'])\n",
    "games = games.reset_index(drop=True)"
   ]
  },
  {
   "cell_type": "code",
   "execution_count": 14,
   "id": "9991084a",
   "metadata": {
    "execution": {
     "iopub.execute_input": "2023-03-27T13:43:55.329652Z",
     "iopub.status.busy": "2023-03-27T13:43:55.329270Z",
     "iopub.status.idle": "2023-03-27T13:43:55.342608Z",
     "shell.execute_reply": "2023-03-27T13:43:55.341191Z"
    },
    "papermill": {
     "duration": 0.027565,
     "end_time": "2023-03-27T13:43:55.345269",
     "exception": false,
     "start_time": "2023-03-27T13:43:55.317704",
     "status": "completed"
    },
    "tags": []
   },
   "outputs": [
    {
     "data": {
      "text/html": [
       "<div>\n",
       "<style scoped>\n",
       "    .dataframe tbody tr th:only-of-type {\n",
       "        vertical-align: middle;\n",
       "    }\n",
       "\n",
       "    .dataframe tbody tr th {\n",
       "        vertical-align: top;\n",
       "    }\n",
       "\n",
       "    .dataframe thead th {\n",
       "        text-align: right;\n",
       "    }\n",
       "</style>\n",
       "<table border=\"1\" class=\"dataframe\">\n",
       "  <thead>\n",
       "    <tr style=\"text-align: right;\">\n",
       "      <th></th>\n",
       "      <th>Name</th>\n",
       "      <th>Platform</th>\n",
       "      <th>Platform_General</th>\n",
       "      <th>Year_of_Release</th>\n",
       "      <th>Genre</th>\n",
       "      <th>Global_Sales</th>\n",
       "      <th>Critic_Score</th>\n",
       "    </tr>\n",
       "  </thead>\n",
       "  <tbody>\n",
       "    <tr>\n",
       "      <th>0</th>\n",
       "      <td>Wii Sports</td>\n",
       "      <td>Wii</td>\n",
       "      <td>Nintendo</td>\n",
       "      <td>2006</td>\n",
       "      <td>Sports</td>\n",
       "      <td>82.53</td>\n",
       "      <td>76</td>\n",
       "    </tr>\n",
       "    <tr>\n",
       "      <th>1</th>\n",
       "      <td>Mario Kart Wii</td>\n",
       "      <td>Wii</td>\n",
       "      <td>Nintendo</td>\n",
       "      <td>2008</td>\n",
       "      <td>Racing</td>\n",
       "      <td>35.52</td>\n",
       "      <td>82</td>\n",
       "    </tr>\n",
       "    <tr>\n",
       "      <th>2</th>\n",
       "      <td>Wii Sports Resort</td>\n",
       "      <td>Wii</td>\n",
       "      <td>Nintendo</td>\n",
       "      <td>2009</td>\n",
       "      <td>Sports</td>\n",
       "      <td>32.77</td>\n",
       "      <td>80</td>\n",
       "    </tr>\n",
       "    <tr>\n",
       "      <th>3</th>\n",
       "      <td>New Super Mario Bros.</td>\n",
       "      <td>DS</td>\n",
       "      <td>Nintendo</td>\n",
       "      <td>2006</td>\n",
       "      <td>Platform</td>\n",
       "      <td>29.80</td>\n",
       "      <td>89</td>\n",
       "    </tr>\n",
       "    <tr>\n",
       "      <th>4</th>\n",
       "      <td>Wii Play</td>\n",
       "      <td>Wii</td>\n",
       "      <td>Nintendo</td>\n",
       "      <td>2006</td>\n",
       "      <td>Misc</td>\n",
       "      <td>28.92</td>\n",
       "      <td>58</td>\n",
       "    </tr>\n",
       "  </tbody>\n",
       "</table>\n",
       "</div>"
      ],
      "text/plain": [
       "                    Name Platform Platform_General Year_of_Release     Genre  \\\n",
       "0             Wii Sports      Wii         Nintendo            2006    Sports   \n",
       "1         Mario Kart Wii      Wii         Nintendo            2008    Racing   \n",
       "2      Wii Sports Resort      Wii         Nintendo            2009    Sports   \n",
       "3  New Super Mario Bros.       DS         Nintendo            2006  Platform   \n",
       "4               Wii Play      Wii         Nintendo            2006      Misc   \n",
       "\n",
       "   Global_Sales  Critic_Score  \n",
       "0         82.53            76  \n",
       "1         35.52            82  \n",
       "2         32.77            80  \n",
       "3         29.80            89  \n",
       "4         28.92            58  "
      ]
     },
     "execution_count": 14,
     "metadata": {},
     "output_type": "execute_result"
    }
   ],
   "source": [
    "games.head()"
   ]
  },
  {
   "cell_type": "markdown",
   "id": "d489c0ad",
   "metadata": {
    "papermill": {
     "duration": 0.010765,
     "end_time": "2023-03-27T13:43:55.367080",
     "exception": false,
     "start_time": "2023-03-27T13:43:55.356315",
     "status": "completed"
    },
    "tags": []
   },
   "source": [
    "## Data Visualization"
   ]
  },
  {
   "cell_type": "code",
   "execution_count": 15,
   "id": "89a1f413",
   "metadata": {
    "execution": {
     "iopub.execute_input": "2023-03-27T13:43:55.390168Z",
     "iopub.status.busy": "2023-03-27T13:43:55.389786Z",
     "iopub.status.idle": "2023-03-27T13:43:55.823490Z",
     "shell.execute_reply": "2023-03-27T13:43:55.822525Z"
    },
    "papermill": {
     "duration": 0.44812,
     "end_time": "2023-03-27T13:43:55.826056",
     "exception": false,
     "start_time": "2023-03-27T13:43:55.377936",
     "status": "completed"
    },
    "tags": []
   },
   "outputs": [
    {
     "name": "stdout",
     "output_type": "stream",
     "text": [
      "      Total Number  Percentage\n",
      "1985             1        0.02\n",
      "1988             1        0.02\n",
      "1994             1        0.02\n",
      "1996             7        0.14\n",
      "1997            17        0.34\n",
      "1998            27        0.54\n",
      "1999            39        0.78\n",
      "2000           131        2.60\n",
      "2001           274        5.45\n",
      "2002           428        8.51\n",
      "2003           363        7.22\n",
      "2004           360        7.16\n",
      "2005           410        8.15\n",
      "2006           397        7.89\n",
      "2007           421        8.37\n",
      "2008           456        9.06\n",
      "2009           393        7.81\n",
      "2010           295        5.86\n",
      "2011           285        5.66\n",
      "2012           179        3.56\n",
      "2013           144        2.86\n",
      "2014           140        2.78\n",
      "2015           135        2.68\n",
      "2016           127        2.52\n"
     ]
    },
    {
     "data": {
      "image/png": "[encoded data removed]",
      "text/plain": [
       "<Figure size 640x480 with 1 Axes>"
      ]
     },
     "metadata": {},
     "output_type": "display_data"
    }
   ],
   "source": [
    "plt.style.use('dark_background')\n",
    "\n",
    "count = games['Year_of_Release'].value_counts().sort_index()\n",
    "percent = 100*games['Year_of_Release'].value_counts(normalize=True)\n",
    "df = pd.DataFrame({'Total Number':count, 'Percentage':percent.round(2)})\n",
    "print(df)\n",
    "count.plot(kind='bar', title=\"Number of Game Releases per Year\");\n"
   ]
  },
  {
   "cell_type": "code",
   "execution_count": 16,
   "id": "e092cbe1",
   "metadata": {
    "execution": {
     "iopub.execute_input": "2023-03-27T13:43:55.849982Z",
     "iopub.status.busy": "2023-03-27T13:43:55.848866Z",
     "iopub.status.idle": "2023-03-27T13:43:56.057390Z",
     "shell.execute_reply": "2023-03-27T13:43:56.056426Z"
    },
    "papermill": {
     "duration": 0.22282,
     "end_time": "2023-03-27T13:43:56.059756",
     "exception": false,
     "start_time": "2023-03-27T13:43:55.836936",
     "status": "completed"
    },
    "tags": []
   },
   "outputs": [
    {
     "name": "stdout",
     "output_type": "stream",
     "text": [
      "              Total Number  Percentage\n",
      "Action                 972       19.32\n",
      "Sports                 607       12.07\n",
      "Role_Playing           602       11.97\n",
      "Shooter                540       10.73\n",
      "Racing                 426        8.47\n",
      "Misc                   353        7.02\n",
      "Platform               310        6.16\n",
      "Simulation             275        5.47\n",
      "Fighting               269        5.35\n",
      "Adventure              246        4.89\n",
      "Strategy               242        4.81\n",
      "Puzzle                 189        3.76\n"
     ]
    },
    {
     "data": {
      "image/png": "[encoded data removed]",
      "text/plain": [
       "<Figure size 640x480 with 1 Axes>"
      ]
     },
     "metadata": {},
     "output_type": "display_data"
    }
   ],
   "source": [
    "plt.style.use('dark_background')\n",
    "count = games['Genre'].value_counts()\n",
    "percent = 100*games['Genre'].value_counts(normalize=True)\n",
    "df = pd.DataFrame({'Total Number':count, 'Percentage':percent.round(2)})\n",
    "print(df)\n",
    "count.plot(kind='bar', title=\"Number of Games per Genre\");"
   ]
  },
  {
   "cell_type": "code",
   "execution_count": 17,
   "id": "335ee095",
   "metadata": {
    "execution": {
     "iopub.execute_input": "2023-03-27T13:43:56.084970Z",
     "iopub.status.busy": "2023-03-27T13:43:56.084326Z",
     "iopub.status.idle": "2023-03-27T13:43:56.541329Z",
     "shell.execute_reply": "2023-03-27T13:43:56.540456Z"
    },
    "papermill": {
     "duration": 0.472678,
     "end_time": "2023-03-27T13:43:56.543992",
     "exception": false,
     "start_time": "2023-03-27T13:43:56.071314",
     "status": "completed"
    },
    "tags": []
   },
   "outputs": [
    {
     "data": {
      "image/png": "[encoded data removed]",
      "text/plain": [
       "<Figure size 1000x500 with 1 Axes>"
      ]
     },
     "metadata": {},
     "output_type": "display_data"
    }
   ],
   "source": [
    "plt.style.use('dark_background')\n",
    "\n",
    "df = games.groupby(['Genre','Platform_General']).Global_Sales.sum()\n",
    "df.unstack().plot.bar(stacked=True, linewidth=0, figsize=(10,5), colormap= 'Reds')\n",
    "plt.title('Global Sales of Video Games per Platform in Each Genre', size=16)\n",
    "plt.ylabel('Global Sales (Million)')\n",
    "plt.xlabel('Genre')\n",
    "plt.legend(loc=9, prop={'size': 10})\n",
    "plt.autoscale()\n",
    "plt.show()"
   ]
  },
  {
   "cell_type": "code",
   "execution_count": 18,
   "id": "f3c09ddf",
   "metadata": {
    "execution": {
     "iopub.execute_input": "2023-03-27T13:43:56.572183Z",
     "iopub.status.busy": "2023-03-27T13:43:56.571572Z",
     "iopub.status.idle": "2023-03-27T13:43:57.055636Z",
     "shell.execute_reply": "2023-03-27T13:43:57.054774Z"
    },
    "papermill": {
     "duration": 0.500148,
     "end_time": "2023-03-27T13:43:57.057866",
     "exception": false,
     "start_time": "2023-03-27T13:43:56.557718",
     "status": "completed"
    },
    "tags": []
   },
   "outputs": [
    {
     "data": {
      "image/png": "[encoded data removed]",
      "text/plain": [
       "<Figure size 1000x500 with 1 Axes>"
      ]
     },
     "metadata": {},
     "output_type": "display_data"
    }
   ],
   "source": [
    "plt.style.use('dark_background')\n",
    "df = games.groupby(['Year_of_Release','Platform_General']).Global_Sales.sum()\n",
    "df.unstack().plot.bar(stacked=True, linewidth=0, figsize=(10,5), colormap= 'Reds')\n",
    "plt.title('Global Sales of each Platform Year by Year', size=16)\n",
    "plt.ylabel('Global Sales (Million)')\n",
    "plt.xlabel('Year')\n",
    "plt.legend(loc=2, prop={'size': 10})\n",
    "plt.show()"
   ]
  },
  {
   "cell_type": "markdown",
   "id": "f5614d9c",
   "metadata": {
    "papermill": {
     "duration": 0.013217,
     "end_time": "2023-03-27T13:43:57.084537",
     "exception": false,
     "start_time": "2023-03-27T13:43:57.071320",
     "status": "completed"
    },
    "tags": []
   },
   "source": [
    "## Create Game Recommendation System "
   ]
  },
  {
   "cell_type": "code",
   "execution_count": 19,
   "id": "08625baf",
   "metadata": {
    "execution": {
     "iopub.execute_input": "2023-03-27T13:43:57.113032Z",
     "iopub.status.busy": "2023-03-27T13:43:57.112416Z",
     "iopub.status.idle": "2023-03-27T13:43:57.123673Z",
     "shell.execute_reply": "2023-03-27T13:43:57.122216Z"
    },
    "papermill": {
     "duration": 0.028166,
     "end_time": "2023-03-27T13:43:57.126059",
     "exception": false,
     "start_time": "2023-03-27T13:43:57.097893",
     "status": "completed"
    },
    "tags": []
   },
   "outputs": [
    {
     "name": "stdout",
     "output_type": "stream",
     "text": [
      "                  Name Platform  Platform_General Year_of_Release   Genre  \\\n",
      "133  Crash Team Racing       PS  Sony_Playstation            1999  Racing   \n",
      "\n",
      "     Global_Sales  Critic_Score  \n",
      "133          4.79            88  \n"
     ]
    }
   ],
   "source": [
    "import numpy as np\n",
    "\n",
    "dataset = games.copy()\n",
    "\n",
    "# We choose a random video game.\n",
    "print(dataset[dataset['Name'].eq('Crash Team Racing')])\n",
    "query = 'Crash Team Racing'"
   ]
  },
  {
   "cell_type": "markdown",
   "id": "711817c4",
   "metadata": {
    "papermill": {
     "duration": 0.012793,
     "end_time": "2023-03-27T13:43:57.152265",
     "exception": false,
     "start_time": "2023-03-27T13:43:57.139472",
     "status": "completed"
    },
    "tags": []
   },
   "source": [
    "#### 1. Using TfidfVectorizer"
   ]
  },
  {
   "cell_type": "code",
   "execution_count": 20,
   "id": "20940a85",
   "metadata": {
    "execution": {
     "iopub.execute_input": "2023-03-27T13:43:57.180279Z",
     "iopub.status.busy": "2023-03-27T13:43:57.179836Z",
     "iopub.status.idle": "2023-03-27T13:43:58.053916Z",
     "shell.execute_reply": "2023-03-27T13:43:58.052395Z"
    },
    "papermill": {
     "duration": 0.891637,
     "end_time": "2023-03-27T13:43:58.056960",
     "exception": false,
     "start_time": "2023-03-27T13:43:57.165323",
     "status": "completed"
    },
    "tags": []
   },
   "outputs": [
    {
     "name": "stderr",
     "output_type": "stream",
     "text": [
      "/opt/conda/lib/python3.7/site-packages/sklearn/utils/deprecation.py:87: FutureWarning: Function get_feature_names is deprecated; get_feature_names is deprecated in 1.0 and will be removed in 1.2. Please use get_feature_names_out instead.\n",
      "  warnings.warn(msg, category=FutureWarning)\n"
     ]
    },
    {
     "data": {
      "text/plain": [
       "['action',\n",
       " 'adventure',\n",
       " 'fighting',\n",
       " 'misc',\n",
       " 'platform',\n",
       " 'puzzle',\n",
       " 'racing',\n",
       " 'role_playing',\n",
       " 'shooter',\n",
       " 'simulation',\n",
       " 'sports',\n",
       " 'strategy']"
      ]
     },
     "execution_count": 20,
     "metadata": {},
     "output_type": "execute_result"
    }
   ],
   "source": [
    "from sklearn.feature_extraction.text import TfidfVectorizer\n",
    " \n",
    "tf = TfidfVectorizer()\n",
    "tf.fit(dataset['Genre']) \n",
    "tf.get_feature_names() "
   ]
  },
  {
   "cell_type": "code",
   "execution_count": 21,
   "id": "279307a7",
   "metadata": {
    "execution": {
     "iopub.execute_input": "2023-03-27T13:43:58.087945Z",
     "iopub.status.busy": "2023-03-27T13:43:58.087554Z",
     "iopub.status.idle": "2023-03-27T13:43:58.116415Z",
     "shell.execute_reply": "2023-03-27T13:43:58.115335Z"
    },
    "papermill": {
     "duration": 0.047046,
     "end_time": "2023-03-27T13:43:58.119277",
     "exception": false,
     "start_time": "2023-03-27T13:43:58.072231",
     "status": "completed"
    },
    "tags": []
   },
   "outputs": [],
   "source": [
    "tfidf_matrix = tf.fit_transform(dataset['Genre']) "
   ]
  },
  {
   "cell_type": "code",
   "execution_count": 22,
   "id": "a1a543ae",
   "metadata": {
    "execution": {
     "iopub.execute_input": "2023-03-27T13:43:58.148403Z",
     "iopub.status.busy": "2023-03-27T13:43:58.148014Z",
     "iopub.status.idle": "2023-03-27T13:43:58.155567Z",
     "shell.execute_reply": "2023-03-27T13:43:58.154555Z"
    },
    "papermill": {
     "duration": 0.024696,
     "end_time": "2023-03-27T13:43:58.157777",
     "exception": false,
     "start_time": "2023-03-27T13:43:58.133081",
     "status": "completed"
    },
    "tags": []
   },
   "outputs": [
    {
     "data": {
      "text/plain": [
       "matrix([[0., 0., 0., ..., 0., 1., 0.],\n",
       "        [0., 0., 0., ..., 0., 0., 0.],\n",
       "        [0., 0., 0., ..., 0., 1., 0.],\n",
       "        ...,\n",
       "        [0., 0., 0., ..., 0., 0., 0.],\n",
       "        [0., 0., 0., ..., 0., 0., 1.],\n",
       "        [0., 1., 0., ..., 0., 0., 0.]])"
      ]
     },
     "execution_count": 22,
     "metadata": {},
     "output_type": "execute_result"
    }
   ],
   "source": [
    "tfidf_matrix.todense()"
   ]
  },
  {
   "cell_type": "code",
   "execution_count": 23,
   "id": "406a1b8b",
   "metadata": {
    "execution": {
     "iopub.execute_input": "2023-03-27T13:43:58.187195Z",
     "iopub.status.busy": "2023-03-27T13:43:58.186103Z",
     "iopub.status.idle": "2023-03-27T13:43:58.218524Z",
     "shell.execute_reply": "2023-03-27T13:43:58.217531Z"
    },
    "papermill": {
     "duration": 0.049351,
     "end_time": "2023-03-27T13:43:58.220735",
     "exception": false,
     "start_time": "2023-03-27T13:43:58.171384",
     "status": "completed"
    },
    "tags": []
   },
   "outputs": [
    {
     "data": {
      "text/html": [
       "<div>\n",
       "<style scoped>\n",
       "    .dataframe tbody tr th:only-of-type {\n",
       "        vertical-align: middle;\n",
       "    }\n",
       "\n",
       "    .dataframe tbody tr th {\n",
       "        vertical-align: top;\n",
       "    }\n",
       "\n",
       "    .dataframe thead th {\n",
       "        text-align: right;\n",
       "    }\n",
       "</style>\n",
       "<table border=\"1\" class=\"dataframe\">\n",
       "  <thead>\n",
       "    <tr style=\"text-align: right;\">\n",
       "      <th></th>\n",
       "      <th>shooter</th>\n",
       "      <th>fighting</th>\n",
       "      <th>simulation</th>\n",
       "      <th>role_playing</th>\n",
       "      <th>racing</th>\n",
       "      <th>puzzle</th>\n",
       "      <th>misc</th>\n",
       "      <th>sports</th>\n",
       "      <th>platform</th>\n",
       "      <th>strategy</th>\n",
       "      <th>adventure</th>\n",
       "      <th>action</th>\n",
       "    </tr>\n",
       "    <tr>\n",
       "      <th>Name</th>\n",
       "      <th></th>\n",
       "      <th></th>\n",
       "      <th></th>\n",
       "      <th></th>\n",
       "      <th></th>\n",
       "      <th></th>\n",
       "      <th></th>\n",
       "      <th></th>\n",
       "      <th></th>\n",
       "      <th></th>\n",
       "      <th></th>\n",
       "      <th></th>\n",
       "    </tr>\n",
       "  </thead>\n",
       "  <tbody>\n",
       "    <tr>\n",
       "      <th>Star Wars: Flight of the Falcon</th>\n",
       "      <td>0.0</td>\n",
       "      <td>0.0</td>\n",
       "      <td>0.0</td>\n",
       "      <td>0.0</td>\n",
       "      <td>0.0</td>\n",
       "      <td>0.0</td>\n",
       "      <td>0.0</td>\n",
       "      <td>0.0</td>\n",
       "      <td>0.0</td>\n",
       "      <td>0.0</td>\n",
       "      <td>0.0</td>\n",
       "      <td>1.0</td>\n",
       "    </tr>\n",
       "    <tr>\n",
       "      <th>Puzzle Quest 2</th>\n",
       "      <td>0.0</td>\n",
       "      <td>0.0</td>\n",
       "      <td>0.0</td>\n",
       "      <td>0.0</td>\n",
       "      <td>0.0</td>\n",
       "      <td>1.0</td>\n",
       "      <td>0.0</td>\n",
       "      <td>0.0</td>\n",
       "      <td>0.0</td>\n",
       "      <td>0.0</td>\n",
       "      <td>0.0</td>\n",
       "      <td>0.0</td>\n",
       "    </tr>\n",
       "    <tr>\n",
       "      <th>Advance Wars: Dual Strike</th>\n",
       "      <td>0.0</td>\n",
       "      <td>0.0</td>\n",
       "      <td>0.0</td>\n",
       "      <td>0.0</td>\n",
       "      <td>0.0</td>\n",
       "      <td>0.0</td>\n",
       "      <td>0.0</td>\n",
       "      <td>0.0</td>\n",
       "      <td>0.0</td>\n",
       "      <td>1.0</td>\n",
       "      <td>0.0</td>\n",
       "      <td>0.0</td>\n",
       "    </tr>\n",
       "    <tr>\n",
       "      <th>Sydney 2000</th>\n",
       "      <td>0.0</td>\n",
       "      <td>0.0</td>\n",
       "      <td>0.0</td>\n",
       "      <td>0.0</td>\n",
       "      <td>0.0</td>\n",
       "      <td>0.0</td>\n",
       "      <td>0.0</td>\n",
       "      <td>1.0</td>\n",
       "      <td>0.0</td>\n",
       "      <td>0.0</td>\n",
       "      <td>0.0</td>\n",
       "      <td>0.0</td>\n",
       "    </tr>\n",
       "    <tr>\n",
       "      <th>JSRF: Jet Set Radio Future</th>\n",
       "      <td>0.0</td>\n",
       "      <td>0.0</td>\n",
       "      <td>0.0</td>\n",
       "      <td>0.0</td>\n",
       "      <td>0.0</td>\n",
       "      <td>0.0</td>\n",
       "      <td>0.0</td>\n",
       "      <td>0.0</td>\n",
       "      <td>0.0</td>\n",
       "      <td>0.0</td>\n",
       "      <td>0.0</td>\n",
       "      <td>1.0</td>\n",
       "    </tr>\n",
       "    <tr>\n",
       "      <th>Professor Heinz Wolff's Gravity</th>\n",
       "      <td>0.0</td>\n",
       "      <td>0.0</td>\n",
       "      <td>0.0</td>\n",
       "      <td>0.0</td>\n",
       "      <td>0.0</td>\n",
       "      <td>1.0</td>\n",
       "      <td>0.0</td>\n",
       "      <td>0.0</td>\n",
       "      <td>0.0</td>\n",
       "      <td>0.0</td>\n",
       "      <td>0.0</td>\n",
       "      <td>0.0</td>\n",
       "    </tr>\n",
       "    <tr>\n",
       "      <th>Blast Works: Build, Trade, Destroy</th>\n",
       "      <td>1.0</td>\n",
       "      <td>0.0</td>\n",
       "      <td>0.0</td>\n",
       "      <td>0.0</td>\n",
       "      <td>0.0</td>\n",
       "      <td>0.0</td>\n",
       "      <td>0.0</td>\n",
       "      <td>0.0</td>\n",
       "      <td>0.0</td>\n",
       "      <td>0.0</td>\n",
       "      <td>0.0</td>\n",
       "      <td>0.0</td>\n",
       "    </tr>\n",
       "    <tr>\n",
       "      <th>Rugby 2005</th>\n",
       "      <td>0.0</td>\n",
       "      <td>0.0</td>\n",
       "      <td>0.0</td>\n",
       "      <td>0.0</td>\n",
       "      <td>0.0</td>\n",
       "      <td>0.0</td>\n",
       "      <td>0.0</td>\n",
       "      <td>1.0</td>\n",
       "      <td>0.0</td>\n",
       "      <td>0.0</td>\n",
       "      <td>0.0</td>\n",
       "      <td>0.0</td>\n",
       "    </tr>\n",
       "    <tr>\n",
       "      <th>Skylanders: SuperChargers</th>\n",
       "      <td>0.0</td>\n",
       "      <td>0.0</td>\n",
       "      <td>0.0</td>\n",
       "      <td>0.0</td>\n",
       "      <td>0.0</td>\n",
       "      <td>0.0</td>\n",
       "      <td>0.0</td>\n",
       "      <td>0.0</td>\n",
       "      <td>0.0</td>\n",
       "      <td>0.0</td>\n",
       "      <td>0.0</td>\n",
       "      <td>1.0</td>\n",
       "    </tr>\n",
       "    <tr>\n",
       "      <th>Naruto Shippuden: Naruto vs. Sasuke</th>\n",
       "      <td>0.0</td>\n",
       "      <td>0.0</td>\n",
       "      <td>0.0</td>\n",
       "      <td>0.0</td>\n",
       "      <td>0.0</td>\n",
       "      <td>0.0</td>\n",
       "      <td>0.0</td>\n",
       "      <td>0.0</td>\n",
       "      <td>0.0</td>\n",
       "      <td>0.0</td>\n",
       "      <td>0.0</td>\n",
       "      <td>1.0</td>\n",
       "    </tr>\n",
       "  </tbody>\n",
       "</table>\n",
       "</div>"
      ],
      "text/plain": [
       "                                     shooter  fighting  simulation  \\\n",
       "Name                                                                 \n",
       "Star Wars: Flight of the Falcon          0.0       0.0         0.0   \n",
       "Puzzle Quest 2                           0.0       0.0         0.0   \n",
       "Advance Wars: Dual Strike                0.0       0.0         0.0   \n",
       "Sydney 2000                              0.0       0.0         0.0   \n",
       "JSRF: Jet Set Radio Future               0.0       0.0         0.0   \n",
       "Professor Heinz Wolff's Gravity          0.0       0.0         0.0   \n",
       "Blast Works: Build, Trade, Destroy       1.0       0.0         0.0   \n",
       "Rugby 2005                               0.0       0.0         0.0   \n",
       "Skylanders: SuperChargers                0.0       0.0         0.0   \n",
       "Naruto Shippuden: Naruto vs. Sasuke      0.0       0.0         0.0   \n",
       "\n",
       "                                     role_playing  racing  puzzle  misc  \\\n",
       "Name                                                                      \n",
       "Star Wars: Flight of the Falcon               0.0     0.0     0.0   0.0   \n",
       "Puzzle Quest 2                                0.0     0.0     1.0   0.0   \n",
       "Advance Wars: Dual Strike                     0.0     0.0     0.0   0.0   \n",
       "Sydney 2000                                   0.0     0.0     0.0   0.0   \n",
       "JSRF: Jet Set Radio Future                    0.0     0.0     0.0   0.0   \n",
       "Professor Heinz Wolff's Gravity               0.0     0.0     1.0   0.0   \n",
       "Blast Works: Build, Trade, Destroy            0.0     0.0     0.0   0.0   \n",
       "Rugby 2005                                    0.0     0.0     0.0   0.0   \n",
       "Skylanders: SuperChargers                     0.0     0.0     0.0   0.0   \n",
       "Naruto Shippuden: Naruto vs. Sasuke           0.0     0.0     0.0   0.0   \n",
       "\n",
       "                                     sports  platform  strategy  adventure  \\\n",
       "Name                                                                         \n",
       "Star Wars: Flight of the Falcon         0.0       0.0       0.0        0.0   \n",
       "Puzzle Quest 2                          0.0       0.0       0.0        0.0   \n",
       "Advance Wars: Dual Strike               0.0       0.0       1.0        0.0   \n",
       "Sydney 2000                             1.0       0.0       0.0        0.0   \n",
       "JSRF: Jet Set Radio Future              0.0       0.0       0.0        0.0   \n",
       "Professor Heinz Wolff's Gravity         0.0       0.0       0.0        0.0   \n",
       "Blast Works: Build, Trade, Destroy      0.0       0.0       0.0        0.0   \n",
       "Rugby 2005                              1.0       0.0       0.0        0.0   \n",
       "Skylanders: SuperChargers               0.0       0.0       0.0        0.0   \n",
       "Naruto Shippuden: Naruto vs. Sasuke     0.0       0.0       0.0        0.0   \n",
       "\n",
       "                                     action  \n",
       "Name                                         \n",
       "Star Wars: Flight of the Falcon         1.0  \n",
       "Puzzle Quest 2                          0.0  \n",
       "Advance Wars: Dual Strike               0.0  \n",
       "Sydney 2000                             0.0  \n",
       "JSRF: Jet Set Radio Future              1.0  \n",
       "Professor Heinz Wolff's Gravity         0.0  \n",
       "Blast Works: Build, Trade, Destroy      0.0  \n",
       "Rugby 2005                              0.0  \n",
       "Skylanders: SuperChargers               1.0  \n",
       "Naruto Shippuden: Naruto vs. Sasuke     1.0  "
      ]
     },
     "execution_count": 23,
     "metadata": {},
     "output_type": "execute_result"
    }
   ],
   "source": [
    "pd.DataFrame(\n",
    "    tfidf_matrix.todense(), \n",
    "    columns=tf.get_feature_names(),\n",
    "    index=dataset['Name']\n",
    ").sample(12, axis=1).sample(10, axis=0)"
   ]
  },
  {
   "cell_type": "code",
   "execution_count": 24,
   "id": "5ea5b02e",
   "metadata": {
    "execution": {
     "iopub.execute_input": "2023-03-27T13:43:58.250834Z",
     "iopub.status.busy": "2023-03-27T13:43:58.250105Z",
     "iopub.status.idle": "2023-03-27T13:43:58.669081Z",
     "shell.execute_reply": "2023-03-27T13:43:58.667930Z"
    },
    "papermill": {
     "duration": 0.436856,
     "end_time": "2023-03-27T13:43:58.671716",
     "exception": false,
     "start_time": "2023-03-27T13:43:58.234860",
     "status": "completed"
    },
    "tags": []
   },
   "outputs": [
    {
     "data": {
      "text/plain": [
       "array([[1., 0., 1., ..., 0., 0., 0.],\n",
       "       [0., 1., 0., ..., 0., 0., 0.],\n",
       "       [1., 0., 1., ..., 0., 0., 0.],\n",
       "       ...,\n",
       "       [0., 0., 0., ..., 1., 0., 0.],\n",
       "       [0., 0., 0., ..., 0., 1., 0.],\n",
       "       [0., 0., 0., ..., 0., 0., 1.]])"
      ]
     },
     "execution_count": 24,
     "metadata": {},
     "output_type": "execute_result"
    }
   ],
   "source": [
    "from sklearn.metrics.pairwise import cosine_similarity\n",
    " \n",
    "cosine_sim = cosine_similarity(tfidf_matrix) \n",
    "cosine_sim"
   ]
  },
  {
   "cell_type": "code",
   "execution_count": 25,
   "id": "ecae3663",
   "metadata": {
    "execution": {
     "iopub.execute_input": "2023-03-27T13:43:58.701642Z",
     "iopub.status.busy": "2023-03-27T13:43:58.701242Z",
     "iopub.status.idle": "2023-03-27T13:43:58.723187Z",
     "shell.execute_reply": "2023-03-27T13:43:58.721817Z"
    },
    "papermill": {
     "duration": 0.039798,
     "end_time": "2023-03-27T13:43:58.725775",
     "exception": false,
     "start_time": "2023-03-27T13:43:58.685977",
     "status": "completed"
    },
    "tags": []
   },
   "outputs": [
    {
     "name": "stdout",
     "output_type": "stream",
     "text": [
      "Shape: (5031, 5031)\n"
     ]
    },
    {
     "data": {
      "text/html": [
       "<div>\n",
       "<style scoped>\n",
       "    .dataframe tbody tr th:only-of-type {\n",
       "        vertical-align: middle;\n",
       "    }\n",
       "\n",
       "    .dataframe tbody tr th {\n",
       "        vertical-align: top;\n",
       "    }\n",
       "\n",
       "    .dataframe thead th {\n",
       "        text-align: right;\n",
       "    }\n",
       "</style>\n",
       "<table border=\"1\" class=\"dataframe\">\n",
       "  <thead>\n",
       "    <tr style=\"text-align: right;\">\n",
       "      <th>Name</th>\n",
       "      <th>Spectral Force Genesis</th>\n",
       "      <th>Mass Effect</th>\n",
       "      <th>Technic Beat</th>\n",
       "      <th>Zumba Fitness</th>\n",
       "      <th>Harvest Moon: The Tale of Two Towns</th>\n",
       "    </tr>\n",
       "    <tr>\n",
       "      <th>Name</th>\n",
       "      <th></th>\n",
       "      <th></th>\n",
       "      <th></th>\n",
       "      <th></th>\n",
       "      <th></th>\n",
       "    </tr>\n",
       "  </thead>\n",
       "  <tbody>\n",
       "    <tr>\n",
       "      <th>Lara Croft Tomb Raider: The Angel of Darkness</th>\n",
       "      <td>0.0</td>\n",
       "      <td>0.0</td>\n",
       "      <td>0.0</td>\n",
       "      <td>0.0</td>\n",
       "      <td>0.0</td>\n",
       "    </tr>\n",
       "    <tr>\n",
       "      <th>Red Dead Revolver</th>\n",
       "      <td>0.0</td>\n",
       "      <td>0.0</td>\n",
       "      <td>0.0</td>\n",
       "      <td>0.0</td>\n",
       "      <td>0.0</td>\n",
       "    </tr>\n",
       "    <tr>\n",
       "      <th>Batman: Arkham VR</th>\n",
       "      <td>0.0</td>\n",
       "      <td>0.0</td>\n",
       "      <td>0.0</td>\n",
       "      <td>0.0</td>\n",
       "      <td>0.0</td>\n",
       "    </tr>\n",
       "    <tr>\n",
       "      <th>Carnival Games: Mini Golf</th>\n",
       "      <td>0.0</td>\n",
       "      <td>0.0</td>\n",
       "      <td>0.0</td>\n",
       "      <td>1.0</td>\n",
       "      <td>0.0</td>\n",
       "    </tr>\n",
       "    <tr>\n",
       "      <th>Kingdom Hearts II</th>\n",
       "      <td>1.0</td>\n",
       "      <td>1.0</td>\n",
       "      <td>0.0</td>\n",
       "      <td>0.0</td>\n",
       "      <td>0.0</td>\n",
       "    </tr>\n",
       "    <tr>\n",
       "      <th>Mage Knight: Destiny's Soldier</th>\n",
       "      <td>0.0</td>\n",
       "      <td>0.0</td>\n",
       "      <td>0.0</td>\n",
       "      <td>0.0</td>\n",
       "      <td>0.0</td>\n",
       "    </tr>\n",
       "    <tr>\n",
       "      <th>Popeye: Rush for Spinach</th>\n",
       "      <td>0.0</td>\n",
       "      <td>0.0</td>\n",
       "      <td>0.0</td>\n",
       "      <td>0.0</td>\n",
       "      <td>0.0</td>\n",
       "    </tr>\n",
       "    <tr>\n",
       "      <th>Jillian Michaels' Fitness Ultimatum 2009</th>\n",
       "      <td>0.0</td>\n",
       "      <td>0.0</td>\n",
       "      <td>0.0</td>\n",
       "      <td>1.0</td>\n",
       "      <td>0.0</td>\n",
       "    </tr>\n",
       "    <tr>\n",
       "      <th>Tony Hawk's Pro Skater</th>\n",
       "      <td>0.0</td>\n",
       "      <td>0.0</td>\n",
       "      <td>0.0</td>\n",
       "      <td>1.0</td>\n",
       "      <td>0.0</td>\n",
       "    </tr>\n",
       "    <tr>\n",
       "      <th>Jak II</th>\n",
       "      <td>0.0</td>\n",
       "      <td>0.0</td>\n",
       "      <td>0.0</td>\n",
       "      <td>0.0</td>\n",
       "      <td>0.0</td>\n",
       "    </tr>\n",
       "  </tbody>\n",
       "</table>\n",
       "</div>"
      ],
      "text/plain": [
       "Name                                           Spectral Force Genesis  \\\n",
       "Name                                                                    \n",
       "Lara Croft Tomb Raider: The Angel of Darkness                     0.0   \n",
       "Red Dead Revolver                                                 0.0   \n",
       "Batman: Arkham VR                                                 0.0   \n",
       "Carnival Games: Mini Golf                                         0.0   \n",
       "Kingdom Hearts II                                                 1.0   \n",
       "Mage Knight: Destiny's Soldier                                    0.0   \n",
       "Popeye: Rush for Spinach                                          0.0   \n",
       "Jillian Michaels' Fitness Ultimatum 2009                          0.0   \n",
       "Tony Hawk's Pro Skater                                            0.0   \n",
       "Jak II                                                            0.0   \n",
       "\n",
       "Name                                           Mass Effect  Technic Beat  \\\n",
       "Name                                                                       \n",
       "Lara Croft Tomb Raider: The Angel of Darkness          0.0           0.0   \n",
       "Red Dead Revolver                                      0.0           0.0   \n",
       "Batman: Arkham VR                                      0.0           0.0   \n",
       "Carnival Games: Mini Golf                              0.0           0.0   \n",
       "Kingdom Hearts II                                      1.0           0.0   \n",
       "Mage Knight: Destiny's Soldier                         0.0           0.0   \n",
       "Popeye: Rush for Spinach                               0.0           0.0   \n",
       "Jillian Michaels' Fitness Ultimatum 2009               0.0           0.0   \n",
       "Tony Hawk's Pro Skater                                 0.0           0.0   \n",
       "Jak II                                                 0.0           0.0   \n",
       "\n",
       "Name                                           Zumba Fitness  \\\n",
       "Name                                                           \n",
       "Lara Croft Tomb Raider: The Angel of Darkness            0.0   \n",
       "Red Dead Revolver                                        0.0   \n",
       "Batman: Arkham VR                                        0.0   \n",
       "Carnival Games: Mini Golf                                1.0   \n",
       "Kingdom Hearts II                                        0.0   \n",
       "Mage Knight: Destiny's Soldier                           0.0   \n",
       "Popeye: Rush for Spinach                                 0.0   \n",
       "Jillian Michaels' Fitness Ultimatum 2009                 1.0   \n",
       "Tony Hawk's Pro Skater                                   1.0   \n",
       "Jak II                                                   0.0   \n",
       "\n",
       "Name                                           Harvest Moon: The Tale of Two Towns  \n",
       "Name                                                                                \n",
       "Lara Croft Tomb Raider: The Angel of Darkness                                  0.0  \n",
       "Red Dead Revolver                                                              0.0  \n",
       "Batman: Arkham VR                                                              0.0  \n",
       "Carnival Games: Mini Golf                                                      0.0  \n",
       "Kingdom Hearts II                                                              0.0  \n",
       "Mage Knight: Destiny's Soldier                                                 0.0  \n",
       "Popeye: Rush for Spinach                                                       0.0  \n",
       "Jillian Michaels' Fitness Ultimatum 2009                                       0.0  \n",
       "Tony Hawk's Pro Skater                                                         0.0  \n",
       "Jak II                                                                         0.0  "
      ]
     },
     "execution_count": 25,
     "metadata": {},
     "output_type": "execute_result"
    }
   ],
   "source": [
    "cosine_sim_df = pd.DataFrame(cosine_sim, index=dataset['Name'], columns=dataset['Name'])\n",
    "print('Shape:', cosine_sim_df.shape)\n",
    "\n",
    "#Check the similarity matrix at each genre\n",
    "cosine_sim_df.sample(5, axis=1).sample(10, axis=0)"
   ]
  },
  {
   "cell_type": "markdown",
   "id": "8777bcdd",
   "metadata": {
    "papermill": {
     "duration": 0.013902,
     "end_time": "2023-03-27T13:43:58.754043",
     "exception": false,
     "start_time": "2023-03-27T13:43:58.740141",
     "status": "completed"
    },
    "tags": []
   },
   "source": [
    "#### Implement recommendation"
   ]
  },
  {
   "cell_type": "code",
   "execution_count": 26,
   "id": "e673c7d0",
   "metadata": {
    "execution": {
     "iopub.execute_input": "2023-03-27T13:43:58.784976Z",
     "iopub.status.busy": "2023-03-27T13:43:58.784118Z",
     "iopub.status.idle": "2023-03-27T13:43:58.793629Z",
     "shell.execute_reply": "2023-03-27T13:43:58.792627Z"
    },
    "papermill": {
     "duration": 0.027561,
     "end_time": "2023-03-27T13:43:58.795934",
     "exception": false,
     "start_time": "2023-03-27T13:43:58.768373",
     "status": "completed"
    },
    "tags": []
   },
   "outputs": [],
   "source": [
    "def recommender_system(Name, k=500):\n",
    "    similarity_data = cosine_sim_df\n",
    "    items = dataset[['Name','Platform','Year_of_Release','Genre','Global_Sales','Critic_Score']]\n",
    "    genre = dataset.loc[dataset[\"Name\"] == Name].Genre.values\n",
    "\n",
    "    index = similarity_data.loc[:,Name].to_numpy().argpartition(range(-1, -k, -1))\n",
    "    closest = similarity_data.columns[index[-1:-(k+2):-1]]\n",
    "    closest = closest.drop(Name, errors='ignore')\n",
    "    \n",
    "    goat = dataset.sort_values(by=['Critic_Score'],ascending=False).head(3)\n",
    "    best_selling_genre = dataset.loc[dataset[\"Genre\"] == genre[0]].sort_values(by=['Global_Sales'],ascending=False).head(5)\n",
    "    recommendation = pd.DataFrame(closest).merge(items[['Name','Platform','Year_of_Release','Genre']]).head(k)\n",
    "    \n",
    "    return Name, goat, best_selling_genre, recommendation, genre"
   ]
  },
  {
   "cell_type": "code",
   "execution_count": 27,
   "id": "d8591554",
   "metadata": {
    "execution": {
     "iopub.execute_input": "2023-03-27T13:43:58.826250Z",
     "iopub.status.busy": "2023-03-27T13:43:58.825880Z",
     "iopub.status.idle": "2023-03-27T13:43:58.845221Z",
     "shell.execute_reply": "2023-03-27T13:43:58.843741Z"
    },
    "papermill": {
     "duration": 0.037755,
     "end_time": "2023-03-27T13:43:58.847929",
     "exception": false,
     "start_time": "2023-03-27T13:43:58.810174",
     "status": "completed"
    },
    "tags": []
   },
   "outputs": [],
   "source": [
    "Name, goat, best_selling_genre, recommendation, genre = recommender_system(query)"
   ]
  },
  {
   "cell_type": "code",
   "execution_count": 28,
   "id": "4a76e773",
   "metadata": {
    "execution": {
     "iopub.execute_input": "2023-03-27T13:43:58.878582Z",
     "iopub.status.busy": "2023-03-27T13:43:58.878155Z",
     "iopub.status.idle": "2023-03-27T13:43:58.889498Z",
     "shell.execute_reply": "2023-03-27T13:43:58.888265Z"
    },
    "papermill": {
     "duration": 0.029849,
     "end_time": "2023-03-27T13:43:58.892310",
     "exception": false,
     "start_time": "2023-03-27T13:43:58.862461",
     "status": "completed"
    },
    "tags": []
   },
   "outputs": [
    {
     "name": "stdout",
     "output_type": "stream",
     "text": [
      "Top 3 Greatest Games of All Time:\n",
      "--------------------------------------------------\n",
      "[Score: 98/100] Grand Theft Auto IV (2008)\n",
      "[Score: 98/100] Tony Hawk's Pro Skater 2 (2000)\n",
      "[Score: 98/100] SoulCalibur (1999)\n",
      "==================================================\n",
      "Top 5 Best Selling Racing Games of All Time:\n",
      "--------------------------------------------------\n",
      "Mario Kart Wii (2008) - Wii\n",
      "Mario Kart DS (2005) - DS\n",
      "Gran Turismo 3: A-Spec (2001) - PS2\n",
      "Mario Kart 7 (2011) - 3DS\n",
      "Gran Turismo 4 (2004) - PS2\n",
      "==================================================\n",
      "Since you play Crash Team Racing,\n",
      "here are the Top 10 Games you probably like:\n",
      "--------------------------------------------------\n",
      "L.A. Rush (2005) - Multi_Platform\n",
      "GT Advance 2: Rally Racing (2001) - GBA\n",
      "F1 2002 (2002) - Multi_Platform\n",
      "Burnout (2001) - Multi_Platform\n",
      "Blood Drive (2010) - Multi_Platform\n",
      "Cruis'n (2007) - Wii\n",
      "nail'd (2010) - Multi_Platform\n",
      "Pokemon Dash (2004) - DS\n",
      "Blur (2010) - Multi_Platform\n",
      "Pimp My Ride (2008) - Multi_Platform\n"
     ]
    }
   ],
   "source": [
    "print(\"Top 3 Greatest Games of All Time:\")\n",
    "print(\"-----\"*10)\n",
    "for row1 in goat.itertuples():\n",
    "    print('[Score: %d/100] %s (%s)'%(row1.Critic_Score,row1.Name,row1.Year_of_Release))\n",
    "\n",
    "print(\"=====\"*10)  \n",
    "print(\"Top 5 Best Selling %s Games of All Time:\"%genre[0])\n",
    "print(\"-----\"*10)\n",
    "for row2 in best_selling_genre.itertuples():\n",
    "    print('%s (%s) - %s'%(row2.Name,row2.Year_of_Release,row2.Platform))\n",
    "\n",
    "print(\"=====\"*10)\n",
    "print(\"Since you play %s,\"%Name)\n",
    "print(\"here are the Top 10 Games you probably like:\")\n",
    "print(\"-----\"*10)\n",
    "for row3 in recommendation.head(10).itertuples():\n",
    "    print('%s (%s) - %s'%(row3.Name,row3.Year_of_Release,row3.Platform))"
   ]
  },
  {
   "cell_type": "markdown",
   "id": "41f30f9a",
   "metadata": {
    "papermill": {
     "duration": 0.014242,
     "end_time": "2023-03-27T13:43:58.920906",
     "exception": false,
     "start_time": "2023-03-27T13:43:58.906664",
     "status": "completed"
    },
    "tags": []
   },
   "source": [
    "#### Checking Accuracy "
   ]
  },
  {
   "cell_type": "code",
   "execution_count": 29,
   "id": "db48c478",
   "metadata": {
    "execution": {
     "iopub.execute_input": "2023-03-27T13:43:58.951301Z",
     "iopub.status.busy": "2023-03-27T13:43:58.950915Z",
     "iopub.status.idle": "2023-03-27T13:43:58.960845Z",
     "shell.execute_reply": "2023-03-27T13:43:58.959814Z"
    },
    "papermill": {
     "duration": 0.027601,
     "end_time": "2023-03-27T13:43:58.963032",
     "exception": false,
     "start_time": "2023-03-27T13:43:58.935431",
     "status": "completed"
    },
    "tags": []
   },
   "outputs": [
    {
     "data": {
      "text/plain": [
       "Racing          425\n",
       "Action           16\n",
       "Sports           16\n",
       "Role_Playing     12\n",
       "Shooter           8\n",
       "Misc              8\n",
       "Fighting          6\n",
       "Platform          3\n",
       "Simulation        2\n",
       "Adventure         2\n",
       "Puzzle            1\n",
       "Strategy          1\n",
       "Name: Genre, dtype: int64"
      ]
     },
     "execution_count": 29,
     "metadata": {},
     "output_type": "execute_result"
    }
   ],
   "source": [
    "recommendation[\"Genre\"].value_counts()"
   ]
  },
  {
   "cell_type": "code",
   "execution_count": 30,
   "id": "ff2bd2ca",
   "metadata": {
    "execution": {
     "iopub.execute_input": "2023-03-27T13:43:58.994148Z",
     "iopub.status.busy": "2023-03-27T13:43:58.993499Z",
     "iopub.status.idle": "2023-03-27T13:43:59.002668Z",
     "shell.execute_reply": "2023-03-27T13:43:59.001278Z"
    },
    "papermill": {
     "duration": 0.028279,
     "end_time": "2023-03-27T13:43:59.005882",
     "exception": false,
     "start_time": "2023-03-27T13:43:58.977603",
     "status": "completed"
    },
    "tags": []
   },
   "outputs": [
    {
     "name": "stdout",
     "output_type": "stream",
     "text": [
      "Out of a total of 500 recommendation lists,\n",
      "- Number of relevant recommendations: 425\n",
      "- Number of irrelevant recommendations: 75\n",
      "Precision Score = 0.85\n"
     ]
    }
   ],
   "source": [
    "relevant = not_related = 0\n",
    "\n",
    "for checking in recommendation.itertuples():\n",
    "    if checking.Genre == genre[0]:\n",
    "        relevant+=1\n",
    "    else:\n",
    "        not_related+=1\n",
    "        \n",
    "print(\"Out of a total of 500 recommendation lists,\")\n",
    "print(\"- Number of relevant recommendations:\",relevant)\n",
    "print(\"- Number of irrelevant recommendations:\",not_related)\n",
    "print(\"Precision Score =\",(relevant/500))"
   ]
  },
  {
   "cell_type": "markdown",
   "id": "bf0c2521",
   "metadata": {
    "papermill": {
     "duration": 0.014256,
     "end_time": "2023-03-27T13:43:59.035269",
     "exception": false,
     "start_time": "2023-03-27T13:43:59.021013",
     "status": "completed"
    },
    "tags": []
   },
   "source": [
    "## For Improvement\n",
    "\n",
    "The system can be further improved to generate more robust and personalized recommendations for users.\n",
    "\n",
    "This can be developed by: \n",
    "- using data on search style of similar users (collaborative filtering) in conjunction with history which share similar characteristics who’ve been rated by users (content based).\n",
    "- utilize other machine learning model such as KNN to improve accuracy."
   ]
  }
 ],
 "metadata": {
  "kernelspec": {
   "display_name": "Python 3",
   "language": "python",
   "name": "python3"
  },
  "language_info": {
   "codemirror_mode": {
    "name": "ipython",
    "version": 3
   },
   "file_extension": ".py",
   "mimetype": "text/x-python",
   "name": "python",
   "nbconvert_exporter": "python",
   "pygments_lexer": "ipython3",
   "version": "3.7.12"
  },
  "papermill": {
   "default_parameters": {},
   "duration": 15.097812,
   "end_time": "2023-03-27T13:43:59.772681",
   "environment_variables": {},
   "exception": null,
   "input_path": "__notebook__.ipynb",
   "output_path": "__notebook__.ipynb",
   "parameters": {},
   "start_time": "2023-03-27T13:43:44.674869",
   "version": "2.4.0"
  }
 },
 "nbformat": 4,
 "nbformat_minor": 5
}
